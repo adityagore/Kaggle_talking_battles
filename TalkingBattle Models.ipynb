{
 "cells": [
  {
   "cell_type": "code",
   "execution_count": 1,
   "metadata": {
    "collapsed": false
   },
   "outputs": [],
   "source": [
    "import pandas as pd\n",
    "import numpy as np\n",
    "%matplotlib inline\n",
    "import seaborn as sns\n",
    "import matplotlib.pyplot as plt\n",
    "import os\n",
    "mingw_path = 'C:\\\\mingw64\\\\bin'\n",
    "os.environ['PATH'] = mingw_path + ';' + os.environ['PATH']\n",
    "\n",
    "from sklearn.preprocessing import LabelEncoder\n",
    "from scipy.sparse import csr_matrix, hstack\n",
    "from datetime import date\n",
    "from sklearn.linear_model import LogisticRegression\n",
    "from sklearn.linear_model import SGDClassifier\n",
    "from sklearn.cross_validation import StratifiedKFold\n",
    "from sklearn.metrics import log_loss\n",
    "import xgboost as xgb"
   ]
  },
  {
   "cell_type": "code",
   "execution_count": 2,
   "metadata": {
    "collapsed": true
   },
   "outputs": [],
   "source": [
    "datadir = ''\n",
    "gatrain = pd.read_csv(os.path.join(datadir,'gender_age_train.csv'),\n",
    "                      index_col='device_id')\n",
    "gatest = pd.read_csv(os.path.join(datadir,'gender_age_test.csv'),\n",
    "                     index_col = 'device_id')"
   ]
  },
  {
   "cell_type": "code",
   "execution_count": 3,
   "metadata": {
    "collapsed": false
   },
   "outputs": [],
   "source": [
    "gatrain['trainrow'] = np.arange(gatrain.shape[0])\n",
    "gatest['testrow'] = np.arange(gatest.shape[0])"
   ]
  },
  {
   "cell_type": "code",
   "execution_count": 4,
   "metadata": {
    "collapsed": false
   },
   "outputs": [
    {
     "data": {
      "text/html": [
       "<div>\n",
       "<table border=\"1\" class=\"dataframe\">\n",
       "  <thead>\n",
       "    <tr style=\"text-align: right;\">\n",
       "      <th></th>\n",
       "      <th>gender</th>\n",
       "      <th>age</th>\n",
       "      <th>group</th>\n",
       "      <th>trainrow</th>\n",
       "    </tr>\n",
       "    <tr>\n",
       "      <th>device_id</th>\n",
       "      <th></th>\n",
       "      <th></th>\n",
       "      <th></th>\n",
       "      <th></th>\n",
       "    </tr>\n",
       "  </thead>\n",
       "  <tbody>\n",
       "    <tr>\n",
       "      <th>-8076087639492063270</th>\n",
       "      <td>M</td>\n",
       "      <td>35</td>\n",
       "      <td>M32-38</td>\n",
       "      <td>0</td>\n",
       "    </tr>\n",
       "    <tr>\n",
       "      <th>-2897161552818060146</th>\n",
       "      <td>M</td>\n",
       "      <td>35</td>\n",
       "      <td>M32-38</td>\n",
       "      <td>1</td>\n",
       "    </tr>\n",
       "    <tr>\n",
       "      <th>-8260683887967679142</th>\n",
       "      <td>M</td>\n",
       "      <td>35</td>\n",
       "      <td>M32-38</td>\n",
       "      <td>2</td>\n",
       "    </tr>\n",
       "    <tr>\n",
       "      <th>-4938849341048082022</th>\n",
       "      <td>M</td>\n",
       "      <td>30</td>\n",
       "      <td>M29-31</td>\n",
       "      <td>3</td>\n",
       "    </tr>\n",
       "    <tr>\n",
       "      <th>245133531816851882</th>\n",
       "      <td>M</td>\n",
       "      <td>30</td>\n",
       "      <td>M29-31</td>\n",
       "      <td>4</td>\n",
       "    </tr>\n",
       "  </tbody>\n",
       "</table>\n",
       "</div>"
      ],
      "text/plain": [
       "                     gender  age   group  trainrow\n",
       "device_id                                         \n",
       "-8076087639492063270      M   35  M32-38         0\n",
       "-2897161552818060146      M   35  M32-38         1\n",
       "-8260683887967679142      M   35  M32-38         2\n",
       "-4938849341048082022      M   30  M29-31         3\n",
       " 245133531816851882       M   30  M29-31         4"
      ]
     },
     "execution_count": 4,
     "metadata": {},
     "output_type": "execute_result"
    }
   ],
   "source": [
    "gatrain.head()"
   ]
  },
  {
   "cell_type": "code",
   "execution_count": 5,
   "metadata": {
    "collapsed": false
   },
   "outputs": [
    {
     "data": {
      "text/html": [
       "<div>\n",
       "<table border=\"1\" class=\"dataframe\">\n",
       "  <thead>\n",
       "    <tr style=\"text-align: right;\">\n",
       "      <th></th>\n",
       "      <th>device_id</th>\n",
       "      <th>phone_brand</th>\n",
       "      <th>device_model</th>\n",
       "    </tr>\n",
       "  </thead>\n",
       "  <tbody>\n",
       "    <tr>\n",
       "      <th>0</th>\n",
       "      <td>-8890648629457979026</td>\n",
       "      <td>小米</td>\n",
       "      <td>红米</td>\n",
       "    </tr>\n",
       "    <tr>\n",
       "      <th>1</th>\n",
       "      <td>1277779817574759137</td>\n",
       "      <td>小米</td>\n",
       "      <td>MI 2</td>\n",
       "    </tr>\n",
       "    <tr>\n",
       "      <th>2</th>\n",
       "      <td>5137427614288105724</td>\n",
       "      <td>三星</td>\n",
       "      <td>Galaxy S4</td>\n",
       "    </tr>\n",
       "    <tr>\n",
       "      <th>3</th>\n",
       "      <td>3669464369358936369</td>\n",
       "      <td>SUGAR</td>\n",
       "      <td>时尚手机</td>\n",
       "    </tr>\n",
       "    <tr>\n",
       "      <th>4</th>\n",
       "      <td>-5019277647504317457</td>\n",
       "      <td>三星</td>\n",
       "      <td>Galaxy Note 2</td>\n",
       "    </tr>\n",
       "  </tbody>\n",
       "</table>\n",
       "</div>"
      ],
      "text/plain": [
       "             device_id phone_brand   device_model\n",
       "0 -8890648629457979026          小米             红米\n",
       "1  1277779817574759137          小米           MI 2\n",
       "2  5137427614288105724          三星      Galaxy S4\n",
       "3  3669464369358936369       SUGAR           时尚手机\n",
       "4 -5019277647504317457          三星  Galaxy Note 2"
      ]
     },
     "execution_count": 5,
     "metadata": {},
     "output_type": "execute_result"
    }
   ],
   "source": [
    "phone = pd.read_csv(os.path.join(datadir,'phone_brand_device_model.csv'))\n",
    "phone.head()"
   ]
  },
  {
   "cell_type": "code",
   "execution_count": 6,
   "metadata": {
    "collapsed": false
   },
   "outputs": [
    {
     "data": {
      "text/plain": [
       "(187245, 3)"
      ]
     },
     "execution_count": 6,
     "metadata": {},
     "output_type": "execute_result"
    }
   ],
   "source": [
    "phone.shape"
   ]
  },
  {
   "cell_type": "code",
   "execution_count": 7,
   "metadata": {
    "collapsed": false
   },
   "outputs": [
    {
     "data": {
      "text/plain": [
       "523"
      ]
     },
     "execution_count": 7,
     "metadata": {},
     "output_type": "execute_result"
    }
   ],
   "source": [
    "phone.duplicated().sum()"
   ]
  },
  {
   "cell_type": "code",
   "execution_count": 8,
   "metadata": {
    "collapsed": false
   },
   "outputs": [
    {
     "data": {
      "text/plain": [
       "(186716, 2)"
      ]
     },
     "execution_count": 8,
     "metadata": {},
     "output_type": "execute_result"
    }
   ],
   "source": [
    "phone = phone.drop_duplicates('device_id',keep='first').set_index('device_id')\n",
    "phone.shape"
   ]
  },
  {
   "cell_type": "code",
   "execution_count": 9,
   "metadata": {
    "collapsed": false,
    "scrolled": true
   },
   "outputs": [
    {
     "data": {
      "text/html": [
       "<div>\n",
       "<table border=\"1\" class=\"dataframe\">\n",
       "  <thead>\n",
       "    <tr style=\"text-align: right;\">\n",
       "      <th></th>\n",
       "      <th>phone_brand</th>\n",
       "      <th>device_model</th>\n",
       "    </tr>\n",
       "    <tr>\n",
       "      <th>device_id</th>\n",
       "      <th></th>\n",
       "      <th></th>\n",
       "    </tr>\n",
       "  </thead>\n",
       "  <tbody>\n",
       "    <tr>\n",
       "      <th>-8890648629457979026</th>\n",
       "      <td>小米</td>\n",
       "      <td>红米</td>\n",
       "    </tr>\n",
       "    <tr>\n",
       "      <th>1277779817574759137</th>\n",
       "      <td>小米</td>\n",
       "      <td>MI 2</td>\n",
       "    </tr>\n",
       "    <tr>\n",
       "      <th>5137427614288105724</th>\n",
       "      <td>三星</td>\n",
       "      <td>Galaxy S4</td>\n",
       "    </tr>\n",
       "    <tr>\n",
       "      <th>3669464369358936369</th>\n",
       "      <td>SUGAR</td>\n",
       "      <td>时尚手机</td>\n",
       "    </tr>\n",
       "    <tr>\n",
       "      <th>-5019277647504317457</th>\n",
       "      <td>三星</td>\n",
       "      <td>Galaxy Note 2</td>\n",
       "    </tr>\n",
       "  </tbody>\n",
       "</table>\n",
       "</div>"
      ],
      "text/plain": [
       "                     phone_brand   device_model\n",
       "device_id                                      \n",
       "-8890648629457979026          小米             红米\n",
       " 1277779817574759137          小米           MI 2\n",
       " 5137427614288105724          三星      Galaxy S4\n",
       " 3669464369358936369       SUGAR           时尚手机\n",
       "-5019277647504317457          三星  Galaxy Note 2"
      ]
     },
     "execution_count": 9,
     "metadata": {},
     "output_type": "execute_result"
    }
   ],
   "source": [
    "phone.head()"
   ]
  },
  {
   "cell_type": "code",
   "execution_count": 10,
   "metadata": {
    "collapsed": false
   },
   "outputs": [
    {
     "data": {
      "text/html": [
       "<div>\n",
       "<table border=\"1\" class=\"dataframe\">\n",
       "  <thead>\n",
       "    <tr style=\"text-align: right;\">\n",
       "      <th></th>\n",
       "      <th>event_id</th>\n",
       "      <th>device_id</th>\n",
       "      <th>timestamp</th>\n",
       "      <th>longitude</th>\n",
       "      <th>latitude</th>\n",
       "    </tr>\n",
       "  </thead>\n",
       "  <tbody>\n",
       "    <tr>\n",
       "      <th>0</th>\n",
       "      <td>1</td>\n",
       "      <td>29182687948017175</td>\n",
       "      <td>2016-05-01 00:55:25</td>\n",
       "      <td>121.38</td>\n",
       "      <td>31.24</td>\n",
       "    </tr>\n",
       "    <tr>\n",
       "      <th>1</th>\n",
       "      <td>2</td>\n",
       "      <td>-6401643145415154744</td>\n",
       "      <td>2016-05-01 00:54:12</td>\n",
       "      <td>103.65</td>\n",
       "      <td>30.97</td>\n",
       "    </tr>\n",
       "    <tr>\n",
       "      <th>2</th>\n",
       "      <td>3</td>\n",
       "      <td>-4833982096941402721</td>\n",
       "      <td>2016-05-01 00:08:05</td>\n",
       "      <td>106.60</td>\n",
       "      <td>29.70</td>\n",
       "    </tr>\n",
       "    <tr>\n",
       "      <th>3</th>\n",
       "      <td>4</td>\n",
       "      <td>-6815121365017318426</td>\n",
       "      <td>2016-05-01 00:06:40</td>\n",
       "      <td>104.27</td>\n",
       "      <td>23.28</td>\n",
       "    </tr>\n",
       "    <tr>\n",
       "      <th>4</th>\n",
       "      <td>5</td>\n",
       "      <td>-5373797595892518570</td>\n",
       "      <td>2016-05-01 00:07:18</td>\n",
       "      <td>115.88</td>\n",
       "      <td>28.66</td>\n",
       "    </tr>\n",
       "  </tbody>\n",
       "</table>\n",
       "</div>"
      ],
      "text/plain": [
       "   event_id            device_id           timestamp  longitude  latitude\n",
       "0         1    29182687948017175 2016-05-01 00:55:25     121.38     31.24\n",
       "1         2 -6401643145415154744 2016-05-01 00:54:12     103.65     30.97\n",
       "2         3 -4833982096941402721 2016-05-01 00:08:05     106.60     29.70\n",
       "3         4 -6815121365017318426 2016-05-01 00:06:40     104.27     23.28\n",
       "4         5 -5373797595892518570 2016-05-01 00:07:18     115.88     28.66"
      ]
     },
     "execution_count": 10,
     "metadata": {},
     "output_type": "execute_result"
    }
   ],
   "source": [
    "events = pd.read_csv(os.path.join(datadir,'events.csv'),\n",
    "                     parse_dates=['timestamp'])\n",
    "events.head()"
   ]
  },
  {
   "cell_type": "code",
   "execution_count": 11,
   "metadata": {
    "collapsed": false
   },
   "outputs": [
    {
     "data": {
      "text/html": [
       "<div>\n",
       "<table border=\"1\" class=\"dataframe\">\n",
       "  <thead>\n",
       "    <tr style=\"text-align: right;\">\n",
       "      <th></th>\n",
       "      <th>event_id</th>\n",
       "      <th>app_id</th>\n",
       "      <th>is_active</th>\n",
       "    </tr>\n",
       "  </thead>\n",
       "  <tbody>\n",
       "    <tr>\n",
       "      <th>0</th>\n",
       "      <td>2</td>\n",
       "      <td>5927333115845830913</td>\n",
       "      <td>True</td>\n",
       "    </tr>\n",
       "    <tr>\n",
       "      <th>1</th>\n",
       "      <td>2</td>\n",
       "      <td>-5720078949152207372</td>\n",
       "      <td>False</td>\n",
       "    </tr>\n",
       "    <tr>\n",
       "      <th>2</th>\n",
       "      <td>2</td>\n",
       "      <td>-1633887856876571208</td>\n",
       "      <td>False</td>\n",
       "    </tr>\n",
       "    <tr>\n",
       "      <th>3</th>\n",
       "      <td>2</td>\n",
       "      <td>-653184325010919369</td>\n",
       "      <td>True</td>\n",
       "    </tr>\n",
       "    <tr>\n",
       "      <th>4</th>\n",
       "      <td>2</td>\n",
       "      <td>8693964245073640147</td>\n",
       "      <td>True</td>\n",
       "    </tr>\n",
       "  </tbody>\n",
       "</table>\n",
       "</div>"
      ],
      "text/plain": [
       "   event_id               app_id is_active\n",
       "0         2  5927333115845830913      True\n",
       "1         2 -5720078949152207372     False\n",
       "2         2 -1633887856876571208     False\n",
       "3         2  -653184325010919369      True\n",
       "4         2  8693964245073640147      True"
      ]
     },
     "execution_count": 11,
     "metadata": {},
     "output_type": "execute_result"
    }
   ],
   "source": [
    "appevents = pd.read_csv(os.path.join(datadir,'app_events.csv'),\n",
    "                        usecols=['event_id','app_id','is_active'],\n",
    "                        dtype={'is_active':bool})\n",
    "appevents.head()"
   ]
  },
  {
   "cell_type": "code",
   "execution_count": 12,
   "metadata": {
    "collapsed": false
   },
   "outputs": [
    {
     "data": {
      "text/html": [
       "<div>\n",
       "<table border=\"1\" class=\"dataframe\">\n",
       "  <thead>\n",
       "    <tr style=\"text-align: right;\">\n",
       "      <th></th>\n",
       "      <th>app_id</th>\n",
       "      <th>label_id</th>\n",
       "    </tr>\n",
       "  </thead>\n",
       "  <tbody>\n",
       "    <tr>\n",
       "      <th>0</th>\n",
       "      <td>7324884708820027918</td>\n",
       "      <td>251</td>\n",
       "    </tr>\n",
       "    <tr>\n",
       "      <th>1</th>\n",
       "      <td>-4494216993218550286</td>\n",
       "      <td>251</td>\n",
       "    </tr>\n",
       "    <tr>\n",
       "      <th>2</th>\n",
       "      <td>6058196446775239644</td>\n",
       "      <td>406</td>\n",
       "    </tr>\n",
       "    <tr>\n",
       "      <th>3</th>\n",
       "      <td>6058196446775239644</td>\n",
       "      <td>407</td>\n",
       "    </tr>\n",
       "    <tr>\n",
       "      <th>4</th>\n",
       "      <td>8694625920731541625</td>\n",
       "      <td>406</td>\n",
       "    </tr>\n",
       "  </tbody>\n",
       "</table>\n",
       "</div>"
      ],
      "text/plain": [
       "                app_id  label_id\n",
       "0  7324884708820027918       251\n",
       "1 -4494216993218550286       251\n",
       "2  6058196446775239644       406\n",
       "3  6058196446775239644       407\n",
       "4  8694625920731541625       406"
      ]
     },
     "execution_count": 12,
     "metadata": {},
     "output_type": "execute_result"
    }
   ],
   "source": [
    "applabels = pd.read_csv(os.path.join(datadir,'app_labels.csv'))\n",
    "applabels.head()"
   ]
  },
  {
   "cell_type": "code",
   "execution_count": 13,
   "metadata": {
    "collapsed": false
   },
   "outputs": [
    {
     "data": {
      "text/html": [
       "<div>\n",
       "<table border=\"1\" class=\"dataframe\">\n",
       "  <thead>\n",
       "    <tr style=\"text-align: right;\">\n",
       "      <th></th>\n",
       "      <th>label_id</th>\n",
       "      <th>category</th>\n",
       "    </tr>\n",
       "  </thead>\n",
       "  <tbody>\n",
       "    <tr>\n",
       "      <th>0</th>\n",
       "      <td>1</td>\n",
       "      <td>NaN</td>\n",
       "    </tr>\n",
       "    <tr>\n",
       "      <th>1</th>\n",
       "      <td>2</td>\n",
       "      <td>game-game type</td>\n",
       "    </tr>\n",
       "    <tr>\n",
       "      <th>2</th>\n",
       "      <td>3</td>\n",
       "      <td>game-Game themes</td>\n",
       "    </tr>\n",
       "    <tr>\n",
       "      <th>3</th>\n",
       "      <td>4</td>\n",
       "      <td>game-Art Style</td>\n",
       "    </tr>\n",
       "    <tr>\n",
       "      <th>4</th>\n",
       "      <td>5</td>\n",
       "      <td>game-Leisure time</td>\n",
       "    </tr>\n",
       "  </tbody>\n",
       "</table>\n",
       "</div>"
      ],
      "text/plain": [
       "   label_id           category\n",
       "0         1                NaN\n",
       "1         2     game-game type\n",
       "2         3   game-Game themes\n",
       "3         4     game-Art Style\n",
       "4         5  game-Leisure time"
      ]
     },
     "execution_count": 13,
     "metadata": {},
     "output_type": "execute_result"
    }
   ],
   "source": [
    "labelcategories = pd.read_csv(os.path.join(datadir,'label_categories.csv'))\n",
    "labelcategories.head()"
   ]
  },
  {
   "cell_type": "code",
   "execution_count": 14,
   "metadata": {
    "collapsed": false
   },
   "outputs": [
    {
     "name": "stdout",
     "output_type": "stream",
     "text": [
      "Number of unique categores: 930, Number of unique categores in apps 507, Number of categories that match 507\n"
     ]
    }
   ],
   "source": [
    "print('Number of unique categores: {}, Number of unique categores in apps {}, Number of categories that match {}'.format(labelcategories.shape[0],len(applabels.label_id.unique()),labelcategories.label_id.isin(applabels.label_id).sum()))"
   ]
  },
  {
   "cell_type": "markdown",
   "metadata": {},
   "source": [
    "# Device Brand"
   ]
  },
  {
   "cell_type": "code",
   "execution_count": 15,
   "metadata": {
    "collapsed": false
   },
   "outputs": [
    {
     "name": "stdout",
     "output_type": "stream",
     "text": [
      "Brand features: train shape (74645, 131), test shape (112071, 131)\n"
     ]
    }
   ],
   "source": [
    "brandencoder = LabelEncoder().fit(phone.phone_brand)\n",
    "phone['brand'] = brandencoder.transform(phone['phone_brand'])\n",
    "gatrain['brand'] = phone['brand']\n",
    "gatest['brand'] = phone['brand']\n",
    "Xtr_brand = csr_matrix((np.ones(gatrain.shape[0]), \n",
    "                       (gatrain.trainrow, gatrain.brand)))\n",
    "Xte_brand = csr_matrix((np.ones(gatest.shape[0]), \n",
    "                       (gatest.testrow, gatest.brand)))\n",
    "print('Brand features: train shape {}, test shape {}'.format(Xtr_brand.shape, Xte_brand.shape))"
   ]
  },
  {
   "cell_type": "markdown",
   "metadata": {},
   "source": [
    "# Device Model"
   ]
  },
  {
   "cell_type": "code",
   "execution_count": 16,
   "metadata": {
    "collapsed": false
   },
   "outputs": [
    {
     "data": {
      "text/plain": [
       "device_id\n",
       "-8890648629457979026               小米红米\n",
       " 1277779817574759137             小米MI 2\n",
       " 5137427614288105724        三星Galaxy S4\n",
       " 3669464369358936369          SUGAR时尚手机\n",
       "-5019277647504317457    三星Galaxy Note 2\n",
       "Name: phone_brand, dtype: object"
      ]
     },
     "execution_count": 16,
     "metadata": {},
     "output_type": "execute_result"
    }
   ],
   "source": [
    "m = phone.phone_brand.str.cat(phone.device_model)\n",
    "m.head()"
   ]
  },
  {
   "cell_type": "code",
   "execution_count": 17,
   "metadata": {
    "collapsed": false
   },
   "outputs": [
    {
     "name": "stdout",
     "output_type": "stream",
     "text": [
      "Model features: train shape (74645, 1667), test shape (112071, 1667)\n"
     ]
    }
   ],
   "source": [
    "modelencoder = LabelEncoder().fit(m)\n",
    "phone['model'] = modelencoder.transform(m)\n",
    "gatrain['model'] = phone['model']\n",
    "gatest['model'] = phone['model']\n",
    "Xtr_model = csr_matrix((np.ones(gatrain.shape[0]), \n",
    "                       (gatrain.trainrow, gatrain.model)))\n",
    "Xte_model = csr_matrix((np.ones(gatest.shape[0]), \n",
    "                       (gatest.testrow, gatest.model)))\n",
    "print('Model features: train shape {}, test shape {}'.format(Xtr_model.shape, Xte_model.shape))"
   ]
  },
  {
   "cell_type": "code",
   "execution_count": 18,
   "metadata": {
    "collapsed": false
   },
   "outputs": [
    {
     "data": {
      "text/html": [
       "<div>\n",
       "<table border=\"1\" class=\"dataframe\">\n",
       "  <thead>\n",
       "    <tr style=\"text-align: right;\">\n",
       "      <th></th>\n",
       "      <th>event_id</th>\n",
       "      <th>app_id</th>\n",
       "      <th>is_active</th>\n",
       "      <th>app</th>\n",
       "    </tr>\n",
       "  </thead>\n",
       "  <tbody>\n",
       "    <tr>\n",
       "      <th>0</th>\n",
       "      <td>2</td>\n",
       "      <td>5927333115845830913</td>\n",
       "      <td>True</td>\n",
       "      <td>15408</td>\n",
       "    </tr>\n",
       "    <tr>\n",
       "      <th>1</th>\n",
       "      <td>2</td>\n",
       "      <td>-5720078949152207372</td>\n",
       "      <td>False</td>\n",
       "      <td>3384</td>\n",
       "    </tr>\n",
       "    <tr>\n",
       "      <th>2</th>\n",
       "      <td>2</td>\n",
       "      <td>-1633887856876571208</td>\n",
       "      <td>False</td>\n",
       "      <td>7620</td>\n",
       "    </tr>\n",
       "    <tr>\n",
       "      <th>3</th>\n",
       "      <td>2</td>\n",
       "      <td>-653184325010919369</td>\n",
       "      <td>True</td>\n",
       "      <td>8902</td>\n",
       "    </tr>\n",
       "    <tr>\n",
       "      <th>4</th>\n",
       "      <td>2</td>\n",
       "      <td>8693964245073640147</td>\n",
       "      <td>True</td>\n",
       "      <td>18686</td>\n",
       "    </tr>\n",
       "  </tbody>\n",
       "</table>\n",
       "</div>"
      ],
      "text/plain": [
       "   event_id               app_id is_active    app\n",
       "0         2  5927333115845830913      True  15408\n",
       "1         2 -5720078949152207372     False   3384\n",
       "2         2 -1633887856876571208     False   7620\n",
       "3         2  -653184325010919369      True   8902\n",
       "4         2  8693964245073640147      True  18686"
      ]
     },
     "execution_count": 18,
     "metadata": {},
     "output_type": "execute_result"
    }
   ],
   "source": [
    "appencoder = LabelEncoder().fit(appevents.app_id)\n",
    "appevents['app'] = appencoder.transform(appevents.app_id)\n",
    "napps = len(appencoder.classes_)\n",
    "appevents.head()"
   ]
  },
  {
   "cell_type": "code",
   "execution_count": 19,
   "metadata": {
    "collapsed": false
   },
   "outputs": [
    {
     "data": {
      "text/html": [
       "<div>\n",
       "<table border=\"1\" class=\"dataframe\">\n",
       "  <thead>\n",
       "    <tr style=\"text-align: right;\">\n",
       "      <th></th>\n",
       "      <th>event_id</th>\n",
       "      <th>device_id</th>\n",
       "      <th>timestamp</th>\n",
       "      <th>longitude</th>\n",
       "      <th>latitude</th>\n",
       "    </tr>\n",
       "  </thead>\n",
       "  <tbody>\n",
       "    <tr>\n",
       "      <th>0</th>\n",
       "      <td>1</td>\n",
       "      <td>29182687948017175</td>\n",
       "      <td>2016-05-01 00:55:25</td>\n",
       "      <td>121.38</td>\n",
       "      <td>31.24</td>\n",
       "    </tr>\n",
       "    <tr>\n",
       "      <th>1</th>\n",
       "      <td>2</td>\n",
       "      <td>-6401643145415154744</td>\n",
       "      <td>2016-05-01 00:54:12</td>\n",
       "      <td>103.65</td>\n",
       "      <td>30.97</td>\n",
       "    </tr>\n",
       "    <tr>\n",
       "      <th>2</th>\n",
       "      <td>3</td>\n",
       "      <td>-4833982096941402721</td>\n",
       "      <td>2016-05-01 00:08:05</td>\n",
       "      <td>106.60</td>\n",
       "      <td>29.70</td>\n",
       "    </tr>\n",
       "    <tr>\n",
       "      <th>3</th>\n",
       "      <td>4</td>\n",
       "      <td>-6815121365017318426</td>\n",
       "      <td>2016-05-01 00:06:40</td>\n",
       "      <td>104.27</td>\n",
       "      <td>23.28</td>\n",
       "    </tr>\n",
       "    <tr>\n",
       "      <th>4</th>\n",
       "      <td>5</td>\n",
       "      <td>-5373797595892518570</td>\n",
       "      <td>2016-05-01 00:07:18</td>\n",
       "      <td>115.88</td>\n",
       "      <td>28.66</td>\n",
       "    </tr>\n",
       "  </tbody>\n",
       "</table>\n",
       "</div>"
      ],
      "text/plain": [
       "   event_id            device_id           timestamp  longitude  latitude\n",
       "0         1    29182687948017175 2016-05-01 00:55:25     121.38     31.24\n",
       "1         2 -6401643145415154744 2016-05-01 00:54:12     103.65     30.97\n",
       "2         3 -4833982096941402721 2016-05-01 00:08:05     106.60     29.70\n",
       "3         4 -6815121365017318426 2016-05-01 00:06:40     104.27     23.28\n",
       "4         5 -5373797595892518570 2016-05-01 00:07:18     115.88     28.66"
      ]
     },
     "execution_count": 19,
     "metadata": {},
     "output_type": "execute_result"
    }
   ],
   "source": [
    "events.head()"
   ]
  },
  {
   "cell_type": "code",
   "execution_count": 20,
   "metadata": {
    "collapsed": false
   },
   "outputs": [
    {
     "data": {
      "text/html": [
       "<div>\n",
       "<table border=\"1\" class=\"dataframe\">\n",
       "  <thead>\n",
       "    <tr style=\"text-align: right;\">\n",
       "      <th></th>\n",
       "      <th>longitude</th>\n",
       "      <th>latitude</th>\n",
       "      <th>region</th>\n",
       "      <th>regionLabel</th>\n",
       "    </tr>\n",
       "  </thead>\n",
       "  <tbody>\n",
       "    <tr>\n",
       "      <th>0</th>\n",
       "      <td>-180.00</td>\n",
       "      <td>0.00</td>\n",
       "      <td>NaN</td>\n",
       "      <td>NaN</td>\n",
       "    </tr>\n",
       "    <tr>\n",
       "      <th>1</th>\n",
       "      <td>-155.99</td>\n",
       "      <td>19.82</td>\n",
       "      <td>1.0</td>\n",
       "      <td>USA</td>\n",
       "    </tr>\n",
       "    <tr>\n",
       "      <th>2</th>\n",
       "      <td>-122.32</td>\n",
       "      <td>47.64</td>\n",
       "      <td>1.0</td>\n",
       "      <td>USA</td>\n",
       "    </tr>\n",
       "    <tr>\n",
       "      <th>3</th>\n",
       "      <td>-122.16</td>\n",
       "      <td>37.45</td>\n",
       "      <td>1.0</td>\n",
       "      <td>USA</td>\n",
       "    </tr>\n",
       "    <tr>\n",
       "      <th>4</th>\n",
       "      <td>-101.76</td>\n",
       "      <td>38.28</td>\n",
       "      <td>1.0</td>\n",
       "      <td>USA</td>\n",
       "    </tr>\n",
       "  </tbody>\n",
       "</table>\n",
       "</div>"
      ],
      "text/plain": [
       "   longitude  latitude  region regionLabel\n",
       "0    -180.00      0.00     NaN         NaN\n",
       "1    -155.99     19.82     1.0         USA\n",
       "2    -122.32     47.64     1.0         USA\n",
       "3    -122.16     37.45     1.0         USA\n",
       "4    -101.76     38.28     1.0         USA"
      ]
     },
     "execution_count": 20,
     "metadata": {},
     "output_type": "execute_result"
    }
   ],
   "source": [
    "latLong = pd.read_csv(\"latLong.csv\")\n",
    "latLong.head()"
   ]
  },
  {
   "cell_type": "code",
   "execution_count": 21,
   "metadata": {
    "collapsed": false
   },
   "outputs": [
    {
     "data": {
      "text/html": [
       "<div>\n",
       "<table border=\"1\" class=\"dataframe\">\n",
       "  <thead>\n",
       "    <tr style=\"text-align: right;\">\n",
       "      <th></th>\n",
       "      <th>event_id</th>\n",
       "      <th>device_id</th>\n",
       "      <th>timestamp</th>\n",
       "      <th>longitude</th>\n",
       "      <th>latitude</th>\n",
       "      <th>regionLabel</th>\n",
       "    </tr>\n",
       "  </thead>\n",
       "  <tbody>\n",
       "    <tr>\n",
       "      <th>0</th>\n",
       "      <td>1</td>\n",
       "      <td>29182687948017175</td>\n",
       "      <td>2016-05-01 00:55:25</td>\n",
       "      <td>121.38</td>\n",
       "      <td>31.24</td>\n",
       "      <td>China</td>\n",
       "    </tr>\n",
       "    <tr>\n",
       "      <th>1</th>\n",
       "      <td>2</td>\n",
       "      <td>-6401643145415154744</td>\n",
       "      <td>2016-05-01 00:54:12</td>\n",
       "      <td>103.65</td>\n",
       "      <td>30.97</td>\n",
       "      <td>China</td>\n",
       "    </tr>\n",
       "    <tr>\n",
       "      <th>2</th>\n",
       "      <td>3</td>\n",
       "      <td>-4833982096941402721</td>\n",
       "      <td>2016-05-01 00:08:05</td>\n",
       "      <td>106.60</td>\n",
       "      <td>29.70</td>\n",
       "      <td>China</td>\n",
       "    </tr>\n",
       "    <tr>\n",
       "      <th>3</th>\n",
       "      <td>4</td>\n",
       "      <td>-6815121365017318426</td>\n",
       "      <td>2016-05-01 00:06:40</td>\n",
       "      <td>104.27</td>\n",
       "      <td>23.28</td>\n",
       "      <td>China</td>\n",
       "    </tr>\n",
       "    <tr>\n",
       "      <th>4</th>\n",
       "      <td>5</td>\n",
       "      <td>-5373797595892518570</td>\n",
       "      <td>2016-05-01 00:07:18</td>\n",
       "      <td>115.88</td>\n",
       "      <td>28.66</td>\n",
       "      <td>China</td>\n",
       "    </tr>\n",
       "  </tbody>\n",
       "</table>\n",
       "</div>"
      ],
      "text/plain": [
       "   event_id            device_id           timestamp  longitude  latitude  \\\n",
       "0         1    29182687948017175 2016-05-01 00:55:25     121.38     31.24   \n",
       "1         2 -6401643145415154744 2016-05-01 00:54:12     103.65     30.97   \n",
       "2         3 -4833982096941402721 2016-05-01 00:08:05     106.60     29.70   \n",
       "3         4 -6815121365017318426 2016-05-01 00:06:40     104.27     23.28   \n",
       "4         5 -5373797595892518570 2016-05-01 00:07:18     115.88     28.66   \n",
       "\n",
       "  regionLabel  \n",
       "0       China  \n",
       "1       China  \n",
       "2       China  \n",
       "3       China  \n",
       "4       China  "
      ]
     },
     "execution_count": 21,
     "metadata": {},
     "output_type": "execute_result"
    }
   ],
   "source": [
    "events = events.merge(latLong[['longitude','latitude','regionLabel']],how='left',left_on=['longitude','latitude'],right_on=['longitude','latitude'])\n",
    "events.head()"
   ]
  },
  {
   "cell_type": "code",
   "execution_count": 22,
   "metadata": {
    "collapsed": false
   },
   "outputs": [
    {
     "data": {
      "text/html": [
       "<div>\n",
       "<table border=\"1\" class=\"dataframe\">\n",
       "  <thead>\n",
       "    <tr style=\"text-align: right;\">\n",
       "      <th></th>\n",
       "      <th>event_id</th>\n",
       "      <th>device_id</th>\n",
       "      <th>timestamp</th>\n",
       "      <th>regionLabel</th>\n",
       "    </tr>\n",
       "  </thead>\n",
       "  <tbody>\n",
       "    <tr>\n",
       "      <th>0</th>\n",
       "      <td>1</td>\n",
       "      <td>29182687948017175</td>\n",
       "      <td>2016-05-01 00:55:25</td>\n",
       "      <td>China</td>\n",
       "    </tr>\n",
       "    <tr>\n",
       "      <th>1</th>\n",
       "      <td>2</td>\n",
       "      <td>-6401643145415154744</td>\n",
       "      <td>2016-05-01 00:54:12</td>\n",
       "      <td>China</td>\n",
       "    </tr>\n",
       "    <tr>\n",
       "      <th>2</th>\n",
       "      <td>3</td>\n",
       "      <td>-4833982096941402721</td>\n",
       "      <td>2016-05-01 00:08:05</td>\n",
       "      <td>China</td>\n",
       "    </tr>\n",
       "    <tr>\n",
       "      <th>3</th>\n",
       "      <td>4</td>\n",
       "      <td>-6815121365017318426</td>\n",
       "      <td>2016-05-01 00:06:40</td>\n",
       "      <td>China</td>\n",
       "    </tr>\n",
       "    <tr>\n",
       "      <th>4</th>\n",
       "      <td>5</td>\n",
       "      <td>-5373797595892518570</td>\n",
       "      <td>2016-05-01 00:07:18</td>\n",
       "      <td>China</td>\n",
       "    </tr>\n",
       "  </tbody>\n",
       "</table>\n",
       "</div>"
      ],
      "text/plain": [
       "   event_id            device_id           timestamp regionLabel\n",
       "0         1    29182687948017175 2016-05-01 00:55:25       China\n",
       "1         2 -6401643145415154744 2016-05-01 00:54:12       China\n",
       "2         3 -4833982096941402721 2016-05-01 00:08:05       China\n",
       "3         4 -6815121365017318426 2016-05-01 00:06:40       China\n",
       "4         5 -5373797595892518570 2016-05-01 00:07:18       China"
      ]
     },
     "execution_count": 22,
     "metadata": {},
     "output_type": "execute_result"
    }
   ],
   "source": [
    "events = events.drop(['longitude','latitude'],axis=1)\n",
    "events.head()"
   ]
  },
  {
   "cell_type": "code",
   "execution_count": 23,
   "metadata": {
    "collapsed": false
   },
   "outputs": [
    {
     "data": {
      "text/plain": [
       "event_id                int64\n",
       "device_id               int64\n",
       "timestamp      datetime64[ns]\n",
       "regionLabel            object\n",
       "dtype: object"
      ]
     },
     "execution_count": 23,
     "metadata": {},
     "output_type": "execute_result"
    }
   ],
   "source": [
    "events.dtypes"
   ]
  },
  {
   "cell_type": "code",
   "execution_count": 24,
   "metadata": {
    "collapsed": false
   },
   "outputs": [
    {
     "data": {
      "text/html": [
       "<div>\n",
       "<table border=\"1\" class=\"dataframe\">\n",
       "  <thead>\n",
       "    <tr style=\"text-align: right;\">\n",
       "      <th></th>\n",
       "      <th>event_id</th>\n",
       "      <th>device_id</th>\n",
       "      <th>regionLabel</th>\n",
       "      <th>day_of_week</th>\n",
       "      <th>period</th>\n",
       "    </tr>\n",
       "  </thead>\n",
       "  <tbody>\n",
       "    <tr>\n",
       "      <th>0</th>\n",
       "      <td>1</td>\n",
       "      <td>29182687948017175</td>\n",
       "      <td>China</td>\n",
       "      <td>6</td>\n",
       "      <td>0</td>\n",
       "    </tr>\n",
       "    <tr>\n",
       "      <th>1</th>\n",
       "      <td>2</td>\n",
       "      <td>-6401643145415154744</td>\n",
       "      <td>China</td>\n",
       "      <td>6</td>\n",
       "      <td>0</td>\n",
       "    </tr>\n",
       "    <tr>\n",
       "      <th>2</th>\n",
       "      <td>3</td>\n",
       "      <td>-4833982096941402721</td>\n",
       "      <td>China</td>\n",
       "      <td>6</td>\n",
       "      <td>0</td>\n",
       "    </tr>\n",
       "    <tr>\n",
       "      <th>3</th>\n",
       "      <td>4</td>\n",
       "      <td>-6815121365017318426</td>\n",
       "      <td>China</td>\n",
       "      <td>6</td>\n",
       "      <td>0</td>\n",
       "    </tr>\n",
       "    <tr>\n",
       "      <th>4</th>\n",
       "      <td>5</td>\n",
       "      <td>-5373797595892518570</td>\n",
       "      <td>China</td>\n",
       "      <td>6</td>\n",
       "      <td>0</td>\n",
       "    </tr>\n",
       "  </tbody>\n",
       "</table>\n",
       "</div>"
      ],
      "text/plain": [
       "   event_id            device_id regionLabel  day_of_week period\n",
       "0         1    29182687948017175       China            6      0\n",
       "1         2 -6401643145415154744       China            6      0\n",
       "2         3 -4833982096941402721       China            6      0\n",
       "3         4 -6815121365017318426       China            6      0\n",
       "4         5 -5373797595892518570       China            6      0"
      ]
     },
     "execution_count": 24,
     "metadata": {},
     "output_type": "execute_result"
    }
   ],
   "source": [
    "events['day_of_week']=events.timestamp.dt.dayofweek\n",
    "events['time_of_day']=events.timestamp.dt.hour\n",
    "events['period']=pd.cut(events.time_of_day,bins=[0,5,12,17,21,24],right=False,labels=[0,1,2,3,4])\n",
    "events['period'].replace(4,0,inplace=True)\n",
    "# 0:Night,1:Morning,2:Afternoon,3:Evening\n",
    "events =events.drop(['time_of_day','timestamp'],axis=1)\n",
    "events.head()"
   ]
  },
  {
   "cell_type": "code",
   "execution_count": 25,
   "metadata": {
    "collapsed": false
   },
   "outputs": [
    {
     "data": {
      "text/html": [
       "<div>\n",
       "<table border=\"1\" class=\"dataframe\">\n",
       "  <thead>\n",
       "    <tr style=\"text-align: right;\">\n",
       "      <th></th>\n",
       "      <th>event_id</th>\n",
       "      <th>app_id</th>\n",
       "      <th>is_active</th>\n",
       "      <th>app</th>\n",
       "    </tr>\n",
       "  </thead>\n",
       "  <tbody>\n",
       "    <tr>\n",
       "      <th>0</th>\n",
       "      <td>2</td>\n",
       "      <td>5927333115845830913</td>\n",
       "      <td>True</td>\n",
       "      <td>15408</td>\n",
       "    </tr>\n",
       "    <tr>\n",
       "      <th>1</th>\n",
       "      <td>2</td>\n",
       "      <td>-5720078949152207372</td>\n",
       "      <td>False</td>\n",
       "      <td>3384</td>\n",
       "    </tr>\n",
       "    <tr>\n",
       "      <th>2</th>\n",
       "      <td>2</td>\n",
       "      <td>-1633887856876571208</td>\n",
       "      <td>False</td>\n",
       "      <td>7620</td>\n",
       "    </tr>\n",
       "    <tr>\n",
       "      <th>3</th>\n",
       "      <td>2</td>\n",
       "      <td>-653184325010919369</td>\n",
       "      <td>True</td>\n",
       "      <td>8902</td>\n",
       "    </tr>\n",
       "    <tr>\n",
       "      <th>4</th>\n",
       "      <td>2</td>\n",
       "      <td>8693964245073640147</td>\n",
       "      <td>True</td>\n",
       "      <td>18686</td>\n",
       "    </tr>\n",
       "  </tbody>\n",
       "</table>\n",
       "</div>"
      ],
      "text/plain": [
       "   event_id               app_id is_active    app\n",
       "0         2  5927333115845830913      True  15408\n",
       "1         2 -5720078949152207372     False   3384\n",
       "2         2 -1633887856876571208     False   7620\n",
       "3         2  -653184325010919369      True   8902\n",
       "4         2  8693964245073640147      True  18686"
      ]
     },
     "execution_count": 25,
     "metadata": {},
     "output_type": "execute_result"
    }
   ],
   "source": [
    "appevents.head()"
   ]
  },
  {
   "cell_type": "code",
   "execution_count": 26,
   "metadata": {
    "collapsed": false
   },
   "outputs": [
    {
     "data": {
      "text/html": [
       "<div>\n",
       "<table border=\"1\" class=\"dataframe\">\n",
       "  <thead>\n",
       "    <tr style=\"text-align: right;\">\n",
       "      <th></th>\n",
       "      <th>event_id</th>\n",
       "      <th>app_id</th>\n",
       "      <th>is_active</th>\n",
       "      <th>app</th>\n",
       "    </tr>\n",
       "  </thead>\n",
       "  <tbody>\n",
       "    <tr>\n",
       "      <th>0</th>\n",
       "      <td>2</td>\n",
       "      <td>5927333115845830913</td>\n",
       "      <td>True</td>\n",
       "      <td>15408</td>\n",
       "    </tr>\n",
       "    <tr>\n",
       "      <th>1</th>\n",
       "      <td>2</td>\n",
       "      <td>-5720078949152207372</td>\n",
       "      <td>False</td>\n",
       "      <td>3384</td>\n",
       "    </tr>\n",
       "    <tr>\n",
       "      <th>2</th>\n",
       "      <td>2</td>\n",
       "      <td>-1633887856876571208</td>\n",
       "      <td>False</td>\n",
       "      <td>7620</td>\n",
       "    </tr>\n",
       "    <tr>\n",
       "      <th>3</th>\n",
       "      <td>2</td>\n",
       "      <td>-653184325010919369</td>\n",
       "      <td>True</td>\n",
       "      <td>8902</td>\n",
       "    </tr>\n",
       "    <tr>\n",
       "      <th>4</th>\n",
       "      <td>2</td>\n",
       "      <td>8693964245073640147</td>\n",
       "      <td>True</td>\n",
       "      <td>18686</td>\n",
       "    </tr>\n",
       "  </tbody>\n",
       "</table>\n",
       "</div>"
      ],
      "text/plain": [
       "   event_id               app_id is_active    app\n",
       "0         2  5927333115845830913      True  15408\n",
       "1         2 -5720078949152207372     False   3384\n",
       "2         2 -1633887856876571208     False   7620\n",
       "3         2  -653184325010919369      True   8902\n",
       "4         2  8693964245073640147      True  18686"
      ]
     },
     "execution_count": 26,
     "metadata": {},
     "output_type": "execute_result"
    }
   ],
   "source": [
    "appencoder = LabelEncoder().fit(appevents.app_id)\n",
    "appevents['app'] = appencoder.transform(appevents.app_id)\n",
    "napps = len(appencoder.classes_)\n",
    "appevents.head()"
   ]
  },
  {
   "cell_type": "code",
   "execution_count": 27,
   "metadata": {
    "collapsed": false
   },
   "outputs": [
    {
     "data": {
      "text/html": [
       "<div>\n",
       "<table border=\"1\" class=\"dataframe\">\n",
       "  <thead>\n",
       "    <tr style=\"text-align: right;\">\n",
       "      <th></th>\n",
       "      <th>event_id</th>\n",
       "      <th>app_id</th>\n",
       "      <th>is_active</th>\n",
       "      <th>app</th>\n",
       "      <th>device_id</th>\n",
       "      <th>regionLabel</th>\n",
       "      <th>day_of_week</th>\n",
       "      <th>period</th>\n",
       "    </tr>\n",
       "  </thead>\n",
       "  <tbody>\n",
       "    <tr>\n",
       "      <th>0</th>\n",
       "      <td>2</td>\n",
       "      <td>5927333115845830913</td>\n",
       "      <td>True</td>\n",
       "      <td>15408</td>\n",
       "      <td>-6401643145415154744</td>\n",
       "      <td>China</td>\n",
       "      <td>6</td>\n",
       "      <td>0</td>\n",
       "    </tr>\n",
       "    <tr>\n",
       "      <th>1</th>\n",
       "      <td>2</td>\n",
       "      <td>-5720078949152207372</td>\n",
       "      <td>False</td>\n",
       "      <td>3384</td>\n",
       "      <td>-6401643145415154744</td>\n",
       "      <td>China</td>\n",
       "      <td>6</td>\n",
       "      <td>0</td>\n",
       "    </tr>\n",
       "    <tr>\n",
       "      <th>2</th>\n",
       "      <td>2</td>\n",
       "      <td>-1633887856876571208</td>\n",
       "      <td>False</td>\n",
       "      <td>7620</td>\n",
       "      <td>-6401643145415154744</td>\n",
       "      <td>China</td>\n",
       "      <td>6</td>\n",
       "      <td>0</td>\n",
       "    </tr>\n",
       "    <tr>\n",
       "      <th>3</th>\n",
       "      <td>2</td>\n",
       "      <td>-653184325010919369</td>\n",
       "      <td>True</td>\n",
       "      <td>8902</td>\n",
       "      <td>-6401643145415154744</td>\n",
       "      <td>China</td>\n",
       "      <td>6</td>\n",
       "      <td>0</td>\n",
       "    </tr>\n",
       "    <tr>\n",
       "      <th>4</th>\n",
       "      <td>2</td>\n",
       "      <td>8693964245073640147</td>\n",
       "      <td>True</td>\n",
       "      <td>18686</td>\n",
       "      <td>-6401643145415154744</td>\n",
       "      <td>China</td>\n",
       "      <td>6</td>\n",
       "      <td>0</td>\n",
       "    </tr>\n",
       "  </tbody>\n",
       "</table>\n",
       "</div>"
      ],
      "text/plain": [
       "   event_id               app_id is_active    app            device_id  \\\n",
       "0         2  5927333115845830913      True  15408 -6401643145415154744   \n",
       "1         2 -5720078949152207372     False   3384 -6401643145415154744   \n",
       "2         2 -1633887856876571208     False   7620 -6401643145415154744   \n",
       "3         2  -653184325010919369      True   8902 -6401643145415154744   \n",
       "4         2  8693964245073640147      True  18686 -6401643145415154744   \n",
       "\n",
       "  regionLabel  day_of_week  period  \n",
       "0       China            6       0  \n",
       "1       China            6       0  \n",
       "2       China            6       0  \n",
       "3       China            6       0  \n",
       "4       China            6       0  "
      ]
     },
     "execution_count": 27,
     "metadata": {},
     "output_type": "execute_result"
    }
   ],
   "source": [
    "deviceapps=appevents.merge(events,how='left',left_on=['event_id'],right_on=['event_id'])\n",
    "deviceapps.head()"
   ]
  },
  {
   "cell_type": "markdown",
   "metadata": {},
   "source": [
    "# Apps and Activity"
   ]
  },
  {
   "cell_type": "code",
   "execution_count": 28,
   "metadata": {
    "collapsed": false,
    "scrolled": true
   },
   "outputs": [
    {
     "data": {
      "text/html": [
       "<div>\n",
       "<table border=\"1\" class=\"dataframe\">\n",
       "  <thead>\n",
       "    <tr style=\"text-align: right;\">\n",
       "      <th></th>\n",
       "      <th>device_id</th>\n",
       "      <th>app</th>\n",
       "      <th>size</th>\n",
       "      <th>sum</th>\n",
       "      <th>mean</th>\n",
       "      <th>trainrow</th>\n",
       "      <th>testrow</th>\n",
       "    </tr>\n",
       "  </thead>\n",
       "  <tbody>\n",
       "    <tr>\n",
       "      <th>0</th>\n",
       "      <td>-9222956879900151005</td>\n",
       "      <td>548</td>\n",
       "      <td>18</td>\n",
       "      <td>4.0</td>\n",
       "      <td>0.222222</td>\n",
       "      <td>21594.0</td>\n",
       "      <td>NaN</td>\n",
       "    </tr>\n",
       "    <tr>\n",
       "      <th>1</th>\n",
       "      <td>-9222956879900151005</td>\n",
       "      <td>1096</td>\n",
       "      <td>18</td>\n",
       "      <td>0.0</td>\n",
       "      <td>0.000000</td>\n",
       "      <td>21594.0</td>\n",
       "      <td>NaN</td>\n",
       "    </tr>\n",
       "    <tr>\n",
       "      <th>2</th>\n",
       "      <td>-9222956879900151005</td>\n",
       "      <td>1248</td>\n",
       "      <td>26</td>\n",
       "      <td>15.0</td>\n",
       "      <td>0.576923</td>\n",
       "      <td>21594.0</td>\n",
       "      <td>NaN</td>\n",
       "    </tr>\n",
       "    <tr>\n",
       "      <th>3</th>\n",
       "      <td>-9222956879900151005</td>\n",
       "      <td>1545</td>\n",
       "      <td>12</td>\n",
       "      <td>2.0</td>\n",
       "      <td>0.166667</td>\n",
       "      <td>21594.0</td>\n",
       "      <td>NaN</td>\n",
       "    </tr>\n",
       "    <tr>\n",
       "      <th>4</th>\n",
       "      <td>-9222956879900151005</td>\n",
       "      <td>1664</td>\n",
       "      <td>18</td>\n",
       "      <td>0.0</td>\n",
       "      <td>0.000000</td>\n",
       "      <td>21594.0</td>\n",
       "      <td>NaN</td>\n",
       "    </tr>\n",
       "  </tbody>\n",
       "</table>\n",
       "</div>"
      ],
      "text/plain": [
       "             device_id   app  size   sum      mean  trainrow  testrow\n",
       "0 -9222956879900151005   548    18   4.0  0.222222   21594.0      NaN\n",
       "1 -9222956879900151005  1096    18   0.0  0.000000   21594.0      NaN\n",
       "2 -9222956879900151005  1248    26  15.0  0.576923   21594.0      NaN\n",
       "3 -9222956879900151005  1545    12   2.0  0.166667   21594.0      NaN\n",
       "4 -9222956879900151005  1664    18   0.0  0.000000   21594.0      NaN"
      ]
     },
     "execution_count": 28,
     "metadata": {},
     "output_type": "execute_result"
    }
   ],
   "source": [
    "appactivity = deviceapps.groupby(['device_id','app'])['is_active'].agg(['size',np.sum,np.mean]).reset_index()\n",
    "appactivity=(appactivity.merge(gatrain[['trainrow']],how='left',left_on='device_id',right_index=True)\n",
    ".merge(gatest[['testrow']],how='left',left_on='device_id',right_index=True))\n",
    "appactivity.head()"
   ]
  },
  {
   "cell_type": "code",
   "execution_count": 29,
   "metadata": {
    "collapsed": false
   },
   "outputs": [
    {
     "name": "stdout",
     "output_type": "stream",
     "text": [
      "Apps data: train shape (74645, 19237), test shape (112071, 19237)\n"
     ]
    }
   ],
   "source": [
    "d = appactivity.dropna(subset=['trainrow'])\n",
    "Xtr_app = csr_matrix((np.ones(d.shape[0]), (d.trainrow, d.app)), \n",
    "                      shape=(gatrain.shape[0],napps))\n",
    "d = appactivity.dropna(subset=['testrow'])\n",
    "Xte_app = csr_matrix((np.ones(d.shape[0]), (d.testrow, d.app)), \n",
    "                      shape=(gatest.shape[0],napps))\n",
    "print('Apps data: train shape {}, test shape {}'.format(Xtr_app.shape, Xte_app.shape))"
   ]
  },
  {
   "cell_type": "code",
   "execution_count": 30,
   "metadata": {
    "collapsed": false
   },
   "outputs": [
    {
     "name": "stdout",
     "output_type": "stream",
     "text": [
      "Apps data: train shape (74645, 19237), test shape (112071, 19237)\n"
     ]
    }
   ],
   "source": [
    "d = appactivity.dropna(subset=['trainrow'])\n",
    "Xtr_app_size = csr_matrix((d['size'], (d.trainrow, d.app)), \n",
    "                      shape=(gatrain.shape[0],napps))\n",
    "d = appactivity.dropna(subset=['testrow'])\n",
    "Xte_app_size = csr_matrix((d['size'], (d.testrow, d.app)), \n",
    "                      shape=(gatest.shape[0],napps))\n",
    "print('Apps data: train shape {}, test shape {}'.format(Xtr_app_size.shape, Xte_app_size.shape))"
   ]
  },
  {
   "cell_type": "code",
   "execution_count": 31,
   "metadata": {
    "collapsed": false
   },
   "outputs": [
    {
     "name": "stdout",
     "output_type": "stream",
     "text": [
      "Apps data: train shape (74645, 19237), test shape (112071, 19237)\n"
     ]
    }
   ],
   "source": [
    "d = appactivity.dropna(subset=['trainrow'])\n",
    "Xtr_app_act = csr_matrix((np.log1p(d['sum']), (d.trainrow, d.app)), \n",
    "                      shape=(gatrain.shape[0],napps))\n",
    "d = appactivity.dropna(subset=['testrow'])\n",
    "Xte_app_act = csr_matrix((np.log1p(d['sum']), (d.testrow, d.app)), \n",
    "                      shape=(gatest.shape[0],napps))\n",
    "print('Apps data: train shape {}, test shape {}'.format(Xtr_app_act.shape, Xte_app_act.shape))"
   ]
  },
  {
   "cell_type": "code",
   "execution_count": 32,
   "metadata": {
    "collapsed": false
   },
   "outputs": [
    {
     "name": "stdout",
     "output_type": "stream",
     "text": [
      "Apps data: train shape (74645, 19237), test shape (112071, 19237)\n"
     ]
    }
   ],
   "source": [
    "d = appactivity.dropna(subset=['trainrow'])\n",
    "Xtr_app_act_m = csr_matrix((d['mean'], (d.trainrow, d.app)), \n",
    "                      shape=(gatrain.shape[0],napps))\n",
    "d = appactivity.dropna(subset=['testrow'])\n",
    "Xte_app_act_m = csr_matrix((d['mean'], (d.testrow, d.app)), \n",
    "                      shape=(gatest.shape[0],napps))\n",
    "print('Apps data: train shape {}, test shape {}'.format(Xtr_app_act_m.shape, Xte_app_act_m.shape))"
   ]
  },
  {
   "cell_type": "markdown",
   "metadata": {},
   "source": [
    "# Location and Activity"
   ]
  },
  {
   "cell_type": "code",
   "execution_count": 33,
   "metadata": {
    "collapsed": false
   },
   "outputs": [
    {
     "data": {
      "text/html": [
       "<div>\n",
       "<table border=\"1\" class=\"dataframe\">\n",
       "  <thead>\n",
       "    <tr style=\"text-align: right;\">\n",
       "      <th></th>\n",
       "      <th>device_id</th>\n",
       "      <th>regionLabel</th>\n",
       "      <th>size</th>\n",
       "      <th>sum</th>\n",
       "      <th>mean</th>\n",
       "      <th>trainrow</th>\n",
       "      <th>testrow</th>\n",
       "    </tr>\n",
       "  </thead>\n",
       "  <tbody>\n",
       "    <tr>\n",
       "      <th>0</th>\n",
       "      <td>-9222956879900151005</td>\n",
       "      <td>China</td>\n",
       "      <td>1069</td>\n",
       "      <td>481.0</td>\n",
       "      <td>0.449953</td>\n",
       "      <td>21594.0</td>\n",
       "      <td>NaN</td>\n",
       "    </tr>\n",
       "    <tr>\n",
       "      <th>1</th>\n",
       "      <td>-9221825537663503111</td>\n",
       "      <td>China</td>\n",
       "      <td>429</td>\n",
       "      <td>237.0</td>\n",
       "      <td>0.552448</td>\n",
       "      <td>NaN</td>\n",
       "      <td>106929.0</td>\n",
       "    </tr>\n",
       "    <tr>\n",
       "      <th>2</th>\n",
       "      <td>-9221026417907250887</td>\n",
       "      <td>China</td>\n",
       "      <td>363</td>\n",
       "      <td>210.0</td>\n",
       "      <td>0.578512</td>\n",
       "      <td>27155.0</td>\n",
       "      <td>NaN</td>\n",
       "    </tr>\n",
       "    <tr>\n",
       "      <th>3</th>\n",
       "      <td>-9220061629197656378</td>\n",
       "      <td>China</td>\n",
       "      <td>1168</td>\n",
       "      <td>38.0</td>\n",
       "      <td>0.032534</td>\n",
       "      <td>74103.0</td>\n",
       "      <td>NaN</td>\n",
       "    </tr>\n",
       "    <tr>\n",
       "      <th>4</th>\n",
       "      <td>-9220053820290758471</td>\n",
       "      <td>China</td>\n",
       "      <td>34</td>\n",
       "      <td>27.0</td>\n",
       "      <td>0.794118</td>\n",
       "      <td>NaN</td>\n",
       "      <td>97141.0</td>\n",
       "    </tr>\n",
       "  </tbody>\n",
       "</table>\n",
       "</div>"
      ],
      "text/plain": [
       "             device_id regionLabel  size    sum      mean  trainrow   testrow\n",
       "0 -9222956879900151005       China  1069  481.0  0.449953   21594.0       NaN\n",
       "1 -9221825537663503111       China   429  237.0  0.552448       NaN  106929.0\n",
       "2 -9221026417907250887       China   363  210.0  0.578512   27155.0       NaN\n",
       "3 -9220061629197656378       China  1168   38.0  0.032534   74103.0       NaN\n",
       "4 -9220053820290758471       China    34   27.0  0.794118       NaN   97141.0"
      ]
     },
     "execution_count": 33,
     "metadata": {},
     "output_type": "execute_result"
    }
   ],
   "source": [
    "locactivity = deviceapps.groupby(['device_id','regionLabel'])['is_active'].agg(['size',np.sum,np.mean]).reset_index()\n",
    "locactivity=(locactivity.merge(gatrain[['trainrow']],how='left',left_on='device_id',right_index=True)\n",
    ".merge(gatest[['testrow']],how='left',left_on='device_id',right_index=True))\n",
    "locactivity.head()"
   ]
  },
  {
   "cell_type": "code",
   "execution_count": 34,
   "metadata": {
    "collapsed": false
   },
   "outputs": [
    {
     "data": {
      "text/html": [
       "<div>\n",
       "<table border=\"1\" class=\"dataframe\">\n",
       "  <thead>\n",
       "    <tr style=\"text-align: right;\">\n",
       "      <th></th>\n",
       "      <th>device_id</th>\n",
       "      <th>regionLabel</th>\n",
       "      <th>size</th>\n",
       "      <th>sum</th>\n",
       "      <th>mean</th>\n",
       "      <th>trainrow</th>\n",
       "      <th>testrow</th>\n",
       "      <th>loc</th>\n",
       "    </tr>\n",
       "  </thead>\n",
       "  <tbody>\n",
       "    <tr>\n",
       "      <th>0</th>\n",
       "      <td>-9222956879900151005</td>\n",
       "      <td>China</td>\n",
       "      <td>1069</td>\n",
       "      <td>481.0</td>\n",
       "      <td>0.449953</td>\n",
       "      <td>21594.0</td>\n",
       "      <td>NaN</td>\n",
       "      <td>5</td>\n",
       "    </tr>\n",
       "    <tr>\n",
       "      <th>1</th>\n",
       "      <td>-9221825537663503111</td>\n",
       "      <td>China</td>\n",
       "      <td>429</td>\n",
       "      <td>237.0</td>\n",
       "      <td>0.552448</td>\n",
       "      <td>NaN</td>\n",
       "      <td>106929.0</td>\n",
       "      <td>5</td>\n",
       "    </tr>\n",
       "    <tr>\n",
       "      <th>2</th>\n",
       "      <td>-9221026417907250887</td>\n",
       "      <td>China</td>\n",
       "      <td>363</td>\n",
       "      <td>210.0</td>\n",
       "      <td>0.578512</td>\n",
       "      <td>27155.0</td>\n",
       "      <td>NaN</td>\n",
       "      <td>5</td>\n",
       "    </tr>\n",
       "    <tr>\n",
       "      <th>3</th>\n",
       "      <td>-9220061629197656378</td>\n",
       "      <td>China</td>\n",
       "      <td>1168</td>\n",
       "      <td>38.0</td>\n",
       "      <td>0.032534</td>\n",
       "      <td>74103.0</td>\n",
       "      <td>NaN</td>\n",
       "      <td>5</td>\n",
       "    </tr>\n",
       "    <tr>\n",
       "      <th>4</th>\n",
       "      <td>-9220053820290758471</td>\n",
       "      <td>China</td>\n",
       "      <td>34</td>\n",
       "      <td>27.0</td>\n",
       "      <td>0.794118</td>\n",
       "      <td>NaN</td>\n",
       "      <td>97141.0</td>\n",
       "      <td>5</td>\n",
       "    </tr>\n",
       "  </tbody>\n",
       "</table>\n",
       "</div>"
      ],
      "text/plain": [
       "             device_id regionLabel  size    sum      mean  trainrow   testrow  \\\n",
       "0 -9222956879900151005       China  1069  481.0  0.449953   21594.0       NaN   \n",
       "1 -9221825537663503111       China   429  237.0  0.552448       NaN  106929.0   \n",
       "2 -9221026417907250887       China   363  210.0  0.578512   27155.0       NaN   \n",
       "3 -9220061629197656378       China  1168   38.0  0.032534   74103.0       NaN   \n",
       "4 -9220053820290758471       China    34   27.0  0.794118       NaN   97141.0   \n",
       "\n",
       "   loc  \n",
       "0    5  \n",
       "1    5  \n",
       "2    5  \n",
       "3    5  \n",
       "4    5  "
      ]
     },
     "execution_count": 34,
     "metadata": {},
     "output_type": "execute_result"
    }
   ],
   "source": [
    "locEncoder = LabelEncoder().fit(locactivity['regionLabel'])\n",
    "locactivity['loc'] = locEncoder.transform(locactivity['regionLabel'])\n",
    "nlocs = len(locEncoder.classes_)\n",
    "locactivity.head()"
   ]
  },
  {
   "cell_type": "code",
   "execution_count": 35,
   "metadata": {
    "collapsed": false
   },
   "outputs": [
    {
     "name": "stdout",
     "output_type": "stream",
     "text": [
      "Apps data: train shape (74645, 35), test shape (112071, 35)\n"
     ]
    }
   ],
   "source": [
    "d = locactivity.dropna(subset=['trainrow'])\n",
    "Xtr_loc = csr_matrix((np.ones(d.shape[0]), (d.trainrow, d['loc'])), \n",
    "                      shape=(gatrain.shape[0],nlocs))\n",
    "d = locactivity.dropna(subset=['testrow'])\n",
    "Xte_loc = csr_matrix((np.ones(d.shape[0]), (d.testrow, d['loc'])), \n",
    "                      shape=(gatest.shape[0],nlocs))\n",
    "print('Apps data: train shape {}, test shape {}'.format(Xtr_loc.shape, Xte_loc.shape))"
   ]
  },
  {
   "cell_type": "code",
   "execution_count": 36,
   "metadata": {
    "collapsed": false
   },
   "outputs": [
    {
     "name": "stdout",
     "output_type": "stream",
     "text": [
      "Apps data: train shape (74645, 35), test shape (112071, 35)\n"
     ]
    }
   ],
   "source": [
    "d = locactivity.dropna(subset=['trainrow'])\n",
    "Xtr_loc_size = csr_matrix((d['size'], (d.trainrow, d['loc'])), \n",
    "                      shape=(gatrain.shape[0],nlocs))\n",
    "d = locactivity.dropna(subset=['testrow'])\n",
    "Xte_loc_size = csr_matrix((d['size'], (d.testrow, d['loc'])), \n",
    "                      shape=(gatest.shape[0],nlocs))\n",
    "print('Apps data: train shape {}, test shape {}'.format(Xtr_loc_size.shape, Xte_loc_size.shape))"
   ]
  },
  {
   "cell_type": "code",
   "execution_count": 37,
   "metadata": {
    "collapsed": false
   },
   "outputs": [
    {
     "name": "stdout",
     "output_type": "stream",
     "text": [
      "Apps data: train shape (74645, 35), test shape (112071, 35)\n"
     ]
    }
   ],
   "source": [
    "d = locactivity.dropna(subset=['trainrow'])\n",
    "Xtr_loc_act = csr_matrix((np.log1p(d['sum']), (d.trainrow, d['loc'])), \n",
    "                      shape=(gatrain.shape[0],nlocs))\n",
    "d = locactivity.dropna(subset=['testrow'])\n",
    "Xte_loc_act = csr_matrix((np.log1p(d['sum']), (d.testrow, d['loc'])), \n",
    "                      shape=(gatest.shape[0],nlocs))\n",
    "print('Apps data: train shape {}, test shape {}'.format(Xtr_loc_act.shape, Xte_loc_act.shape))"
   ]
  },
  {
   "cell_type": "code",
   "execution_count": 38,
   "metadata": {
    "collapsed": false
   },
   "outputs": [
    {
     "name": "stdout",
     "output_type": "stream",
     "text": [
      "Apps data: train shape (74645, 35), test shape (112071, 35)\n"
     ]
    }
   ],
   "source": [
    "d = locactivity.dropna(subset=['trainrow'])\n",
    "Xtr_loc_act_m = csr_matrix((d['mean'], (d.trainrow, d['loc'])), \n",
    "                      shape=(gatrain.shape[0],nlocs))\n",
    "d = locactivity.dropna(subset=['testrow'])\n",
    "Xte_loc_act_m = csr_matrix((d['mean'], (d.testrow, d['loc'])), \n",
    "                      shape=(gatest.shape[0],nlocs))\n",
    "print('Apps data: train shape {}, test shape {}'.format(Xtr_loc_act_m.shape, Xte_loc_act_m.shape))"
   ]
  },
  {
   "cell_type": "markdown",
   "metadata": {},
   "source": [
    "# Week day and Activity"
   ]
  },
  {
   "cell_type": "code",
   "execution_count": 39,
   "metadata": {
    "collapsed": false
   },
   "outputs": [
    {
     "data": {
      "text/html": [
       "<div>\n",
       "<table border=\"1\" class=\"dataframe\">\n",
       "  <thead>\n",
       "    <tr style=\"text-align: right;\">\n",
       "      <th></th>\n",
       "      <th>device_id</th>\n",
       "      <th>day_of_week</th>\n",
       "      <th>size</th>\n",
       "      <th>sum</th>\n",
       "      <th>mean</th>\n",
       "      <th>trainrow</th>\n",
       "      <th>testrow</th>\n",
       "    </tr>\n",
       "  </thead>\n",
       "  <tbody>\n",
       "    <tr>\n",
       "      <th>0</th>\n",
       "      <td>-9222956879900151005</td>\n",
       "      <td>4</td>\n",
       "      <td>627</td>\n",
       "      <td>292.0</td>\n",
       "      <td>0.465710</td>\n",
       "      <td>21594.0</td>\n",
       "      <td>NaN</td>\n",
       "    </tr>\n",
       "    <tr>\n",
       "      <th>1</th>\n",
       "      <td>-9222956879900151005</td>\n",
       "      <td>5</td>\n",
       "      <td>877</td>\n",
       "      <td>418.0</td>\n",
       "      <td>0.476625</td>\n",
       "      <td>21594.0</td>\n",
       "      <td>NaN</td>\n",
       "    </tr>\n",
       "    <tr>\n",
       "      <th>2</th>\n",
       "      <td>-9222661944218806987</td>\n",
       "      <td>0</td>\n",
       "      <td>7</td>\n",
       "      <td>7.0</td>\n",
       "      <td>1.000000</td>\n",
       "      <td>NaN</td>\n",
       "      <td>13612.0</td>\n",
       "    </tr>\n",
       "    <tr>\n",
       "      <th>3</th>\n",
       "      <td>-9222661944218806987</td>\n",
       "      <td>1</td>\n",
       "      <td>11</td>\n",
       "      <td>7.0</td>\n",
       "      <td>0.636364</td>\n",
       "      <td>NaN</td>\n",
       "      <td>13612.0</td>\n",
       "    </tr>\n",
       "    <tr>\n",
       "      <th>4</th>\n",
       "      <td>-9222661944218806987</td>\n",
       "      <td>2</td>\n",
       "      <td>10</td>\n",
       "      <td>7.0</td>\n",
       "      <td>0.700000</td>\n",
       "      <td>NaN</td>\n",
       "      <td>13612.0</td>\n",
       "    </tr>\n",
       "  </tbody>\n",
       "</table>\n",
       "</div>"
      ],
      "text/plain": [
       "             device_id  day_of_week  size    sum      mean  trainrow  testrow\n",
       "0 -9222956879900151005            4   627  292.0  0.465710   21594.0      NaN\n",
       "1 -9222956879900151005            5   877  418.0  0.476625   21594.0      NaN\n",
       "2 -9222661944218806987            0     7    7.0  1.000000       NaN  13612.0\n",
       "3 -9222661944218806987            1    11    7.0  0.636364       NaN  13612.0\n",
       "4 -9222661944218806987            2    10    7.0  0.700000       NaN  13612.0"
      ]
     },
     "execution_count": 39,
     "metadata": {},
     "output_type": "execute_result"
    }
   ],
   "source": [
    "weekactivity = deviceapps.groupby(['device_id','day_of_week'])['is_active'].agg(['size',np.sum,np.mean]).reset_index()\n",
    "weekactivity=(weekactivity.merge(gatrain[['trainrow']],how='left',left_on='device_id',right_index=True)\n",
    ".merge(gatest[['testrow']],how='left',left_on='device_id',right_index=True))\n",
    "weekactivity.head()"
   ]
  },
  {
   "cell_type": "code",
   "execution_count": 40,
   "metadata": {
    "collapsed": false
   },
   "outputs": [
    {
     "name": "stdout",
     "output_type": "stream",
     "text": [
      "Apps data: train shape (74645, 7), test shape (112071, 7)\n"
     ]
    }
   ],
   "source": [
    "d = weekactivity.dropna(subset=['trainrow'])\n",
    "Xtr_week = csr_matrix((np.ones(d.shape[0]), (d.trainrow, d['day_of_week'])), \n",
    "                      shape=(gatrain.shape[0],7))\n",
    "d = weekactivity.dropna(subset=['testrow'])\n",
    "Xte_week = csr_matrix((np.ones(d.shape[0]), (d.testrow, d['day_of_week'])), \n",
    "                      shape=(gatest.shape[0],7))\n",
    "print('Apps data: train shape {}, test shape {}'.format(Xtr_week.shape, Xte_week.shape))"
   ]
  },
  {
   "cell_type": "code",
   "execution_count": 41,
   "metadata": {
    "collapsed": false
   },
   "outputs": [
    {
     "name": "stdout",
     "output_type": "stream",
     "text": [
      "Apps data: train shape (74645, 7), test shape (112071, 7)\n"
     ]
    }
   ],
   "source": [
    "d = weekactivity.dropna(subset=['trainrow'])\n",
    "Xtr_week_size = csr_matrix((d['size'], (d.trainrow, d['day_of_week'])), \n",
    "                      shape=(gatrain.shape[0],7))\n",
    "d = weekactivity.dropna(subset=['testrow'])\n",
    "Xte_week_size = csr_matrix((d['size'], (d.testrow, d['day_of_week'])), \n",
    "                      shape=(gatest.shape[0],7))\n",
    "print('Apps data: train shape {}, test shape {}'.format(Xtr_week_size.shape, Xte_week_size.shape))"
   ]
  },
  {
   "cell_type": "code",
   "execution_count": 42,
   "metadata": {
    "collapsed": false
   },
   "outputs": [
    {
     "name": "stdout",
     "output_type": "stream",
     "text": [
      "Apps data: train shape (74645, 7), test shape (112071, 7)\n"
     ]
    }
   ],
   "source": [
    "d = weekactivity.dropna(subset=['trainrow'])\n",
    "Xtr_week_act = csr_matrix((np.log1p(d['sum']), (d.trainrow, d['day_of_week'])), \n",
    "                      shape=(gatrain.shape[0],7))\n",
    "d = weekactivity.dropna(subset=['testrow'])\n",
    "Xte_week_act = csr_matrix((np.log1p(d['sum']), (d.testrow, d['day_of_week'])), \n",
    "                      shape=(gatest.shape[0],7))\n",
    "print('Apps data: train shape {}, test shape {}'.format(Xtr_week_act.shape, Xte_week_act.shape))"
   ]
  },
  {
   "cell_type": "code",
   "execution_count": 43,
   "metadata": {
    "collapsed": false
   },
   "outputs": [
    {
     "name": "stdout",
     "output_type": "stream",
     "text": [
      "Apps data: train shape (74645, 7), test shape (112071, 7)\n"
     ]
    }
   ],
   "source": [
    "d = weekactivity.dropna(subset=['trainrow'])\n",
    "Xtr_week_act_m = csr_matrix((d['mean'], (d.trainrow, d['day_of_week'])), \n",
    "                      shape=(gatrain.shape[0],7))\n",
    "d = weekactivity.dropna(subset=['testrow'])\n",
    "Xte_week_act_m = csr_matrix((d['mean'], (d.testrow, d['day_of_week'])), \n",
    "                      shape=(gatest.shape[0],7))\n",
    "print('Apps data: train shape {}, test shape {}'.format(Xtr_week_act_m.shape, Xte_week_act_m.shape))"
   ]
  },
  {
   "cell_type": "markdown",
   "metadata": {},
   "source": [
    "# Day time & Activity"
   ]
  },
  {
   "cell_type": "code",
   "execution_count": 44,
   "metadata": {
    "collapsed": false
   },
   "outputs": [
    {
     "data": {
      "text/html": [
       "<div>\n",
       "<table border=\"1\" class=\"dataframe\">\n",
       "  <thead>\n",
       "    <tr style=\"text-align: right;\">\n",
       "      <th></th>\n",
       "      <th>device_id</th>\n",
       "      <th>period</th>\n",
       "      <th>size</th>\n",
       "      <th>sum</th>\n",
       "      <th>mean</th>\n",
       "      <th>trainrow</th>\n",
       "      <th>testrow</th>\n",
       "    </tr>\n",
       "  </thead>\n",
       "  <tbody>\n",
       "    <tr>\n",
       "      <th>0</th>\n",
       "      <td>-9222956879900151005</td>\n",
       "      <td>0</td>\n",
       "      <td>202</td>\n",
       "      <td>110.0</td>\n",
       "      <td>0.544554</td>\n",
       "      <td>21594.0</td>\n",
       "      <td>NaN</td>\n",
       "    </tr>\n",
       "    <tr>\n",
       "      <th>1</th>\n",
       "      <td>-9222956879900151005</td>\n",
       "      <td>1</td>\n",
       "      <td>407</td>\n",
       "      <td>103.0</td>\n",
       "      <td>0.253071</td>\n",
       "      <td>21594.0</td>\n",
       "      <td>NaN</td>\n",
       "    </tr>\n",
       "    <tr>\n",
       "      <th>2</th>\n",
       "      <td>-9222956879900151005</td>\n",
       "      <td>2</td>\n",
       "      <td>809</td>\n",
       "      <td>411.0</td>\n",
       "      <td>0.508035</td>\n",
       "      <td>21594.0</td>\n",
       "      <td>NaN</td>\n",
       "    </tr>\n",
       "    <tr>\n",
       "      <th>3</th>\n",
       "      <td>-9222956879900151005</td>\n",
       "      <td>3</td>\n",
       "      <td>86</td>\n",
       "      <td>86.0</td>\n",
       "      <td>1.000000</td>\n",
       "      <td>21594.0</td>\n",
       "      <td>NaN</td>\n",
       "    </tr>\n",
       "    <tr>\n",
       "      <th>4</th>\n",
       "      <td>-9222661944218806987</td>\n",
       "      <td>0</td>\n",
       "      <td>27</td>\n",
       "      <td>19.0</td>\n",
       "      <td>0.703704</td>\n",
       "      <td>NaN</td>\n",
       "      <td>13612.0</td>\n",
       "    </tr>\n",
       "  </tbody>\n",
       "</table>\n",
       "</div>"
      ],
      "text/plain": [
       "             device_id  period  size    sum      mean  trainrow  testrow\n",
       "0 -9222956879900151005       0   202  110.0  0.544554   21594.0      NaN\n",
       "1 -9222956879900151005       1   407  103.0  0.253071   21594.0      NaN\n",
       "2 -9222956879900151005       2   809  411.0  0.508035   21594.0      NaN\n",
       "3 -9222956879900151005       3    86   86.0  1.000000   21594.0      NaN\n",
       "4 -9222661944218806987       0    27   19.0  0.703704       NaN  13612.0"
      ]
     },
     "execution_count": 44,
     "metadata": {},
     "output_type": "execute_result"
    }
   ],
   "source": [
    "periodactivity = deviceapps.groupby(['device_id','period'])['is_active'].agg(['size',np.sum,np.mean]).reset_index()\n",
    "periodactivity=(periodactivity.merge(gatrain[['trainrow']],how='left',left_on='device_id',right_index=True)\n",
    ".merge(gatest[['testrow']],how='left',left_on='device_id',right_index=True))\n",
    "periodactivity.head()"
   ]
  },
  {
   "cell_type": "code",
   "execution_count": 45,
   "metadata": {
    "collapsed": false
   },
   "outputs": [
    {
     "name": "stdout",
     "output_type": "stream",
     "text": [
      "Apps data: train shape (74645, 4), test shape (112071, 4)\n"
     ]
    }
   ],
   "source": [
    "d = periodactivity.dropna(subset=['trainrow'])\n",
    "Xtr_period = csr_matrix((np.ones(d.shape[0]), (d.trainrow, d['period'])), \n",
    "                      shape=(gatrain.shape[0],4))\n",
    "d = periodactivity.dropna(subset=['testrow'])\n",
    "Xte_period = csr_matrix((np.ones(d.shape[0]), (d.testrow, d['period'])), \n",
    "                      shape=(gatest.shape[0],4))\n",
    "print('Apps data: train shape {}, test shape {}'.format(Xtr_period.shape, Xte_period.shape))"
   ]
  },
  {
   "cell_type": "code",
   "execution_count": 46,
   "metadata": {
    "collapsed": false
   },
   "outputs": [
    {
     "name": "stdout",
     "output_type": "stream",
     "text": [
      "Apps data: train shape (74645, 4), test shape (112071, 4)\n"
     ]
    }
   ],
   "source": [
    "d = periodactivity.dropna(subset=['trainrow'])\n",
    "Xtr_period_size = csr_matrix((d['size'], (d.trainrow, d['period'])), \n",
    "                      shape=(gatrain.shape[0],4))\n",
    "d = periodactivity.dropna(subset=['testrow'])\n",
    "Xte_period_size = csr_matrix((d['size'], (d.testrow, d['period'])), \n",
    "                      shape=(gatest.shape[0],4))\n",
    "print('Apps data: train shape {}, test shape {}'.format(Xtr_period_size.shape, Xte_period_size.shape))"
   ]
  },
  {
   "cell_type": "code",
   "execution_count": 47,
   "metadata": {
    "collapsed": false
   },
   "outputs": [
    {
     "name": "stdout",
     "output_type": "stream",
     "text": [
      "Apps data: train shape (74645, 4), test shape (112071, 4)\n"
     ]
    }
   ],
   "source": [
    "d = periodactivity.dropna(subset=['trainrow'])\n",
    "Xtr_period_act = csr_matrix((np.log1p(d['sum']), (d.trainrow, d['period'])), \n",
    "                      shape=(gatrain.shape[0],4))\n",
    "d = periodactivity.dropna(subset=['testrow'])\n",
    "Xte_period_act = csr_matrix((np.log1p(d['sum']), (d.testrow, d['period'])), \n",
    "                      shape=(gatest.shape[0],4))\n",
    "print('Apps data: train shape {}, test shape {}'.format(Xtr_period_act.shape, Xte_period_act.shape))\n"
   ]
  },
  {
   "cell_type": "code",
   "execution_count": 48,
   "metadata": {
    "collapsed": false
   },
   "outputs": [
    {
     "name": "stdout",
     "output_type": "stream",
     "text": [
      "Apps data: train shape (74645, 4), test shape (112071, 4)\n"
     ]
    }
   ],
   "source": [
    "d = periodactivity.dropna(subset=['trainrow'])\n",
    "Xtr_period_act_m = csr_matrix((d['mean'], (d.trainrow, d['period'])), \n",
    "                      shape=(gatrain.shape[0],4))\n",
    "d = periodactivity.dropna(subset=['testrow'])\n",
    "Xte_period_act_m = csr_matrix((d['mean'], (d.testrow, d['period'])), \n",
    "                      shape=(gatest.shape[0],4))\n",
    "print('Apps data: train shape {}, test shape {}'.format(Xtr_period_act_m.shape, Xte_period_act_m.shape))"
   ]
  },
  {
   "cell_type": "code",
   "execution_count": 49,
   "metadata": {
    "collapsed": true
   },
   "outputs": [],
   "source": [
    "del appactivity\n",
    "del locactivity\n",
    "del weekactivity\n",
    "del periodactivity\n",
    "del events"
   ]
  },
  {
   "cell_type": "markdown",
   "metadata": {},
   "source": [
    "# App labels features"
   ]
  },
  {
   "cell_type": "code",
   "execution_count": 50,
   "metadata": {
    "collapsed": false,
    "scrolled": true
   },
   "outputs": [],
   "source": [
    "applabels = applabels.loc[applabels.app_id.isin(appevents.app_id.unique())]\n",
    "applabels['app'] = appencoder.transform(applabels.app_id)\n",
    "labelencoder = LabelEncoder().fit(applabels.label_id)\n",
    "applabels['label'] = labelencoder.transform(applabels.label_id)\n",
    "nlabels = len(labelencoder.classes_)"
   ]
  },
  {
   "cell_type": "code",
   "execution_count": 51,
   "metadata": {
    "collapsed": false
   },
   "outputs": [
    {
     "data": {
      "text/html": [
       "<div>\n",
       "<table border=\"1\" class=\"dataframe\">\n",
       "  <thead>\n",
       "    <tr style=\"text-align: right;\">\n",
       "      <th></th>\n",
       "      <th>gender</th>\n",
       "      <th>age</th>\n",
       "      <th>group</th>\n",
       "      <th>trainrow</th>\n",
       "      <th>brand</th>\n",
       "      <th>model</th>\n",
       "    </tr>\n",
       "    <tr>\n",
       "      <th>device_id</th>\n",
       "      <th></th>\n",
       "      <th></th>\n",
       "      <th></th>\n",
       "      <th></th>\n",
       "      <th></th>\n",
       "      <th></th>\n",
       "    </tr>\n",
       "  </thead>\n",
       "  <tbody>\n",
       "    <tr>\n",
       "      <th>-8076087639492063270</th>\n",
       "      <td>M</td>\n",
       "      <td>35</td>\n",
       "      <td>M32-38</td>\n",
       "      <td>0</td>\n",
       "      <td>51</td>\n",
       "      <td>843</td>\n",
       "    </tr>\n",
       "    <tr>\n",
       "      <th>-2897161552818060146</th>\n",
       "      <td>M</td>\n",
       "      <td>35</td>\n",
       "      <td>M32-38</td>\n",
       "      <td>1</td>\n",
       "      <td>51</td>\n",
       "      <td>843</td>\n",
       "    </tr>\n",
       "    <tr>\n",
       "      <th>-8260683887967679142</th>\n",
       "      <td>M</td>\n",
       "      <td>35</td>\n",
       "      <td>M32-38</td>\n",
       "      <td>2</td>\n",
       "      <td>51</td>\n",
       "      <td>843</td>\n",
       "    </tr>\n",
       "    <tr>\n",
       "      <th>-4938849341048082022</th>\n",
       "      <td>M</td>\n",
       "      <td>30</td>\n",
       "      <td>M29-31</td>\n",
       "      <td>3</td>\n",
       "      <td>51</td>\n",
       "      <td>865</td>\n",
       "    </tr>\n",
       "    <tr>\n",
       "      <th>245133531816851882</th>\n",
       "      <td>M</td>\n",
       "      <td>30</td>\n",
       "      <td>M29-31</td>\n",
       "      <td>4</td>\n",
       "      <td>51</td>\n",
       "      <td>847</td>\n",
       "    </tr>\n",
       "  </tbody>\n",
       "</table>\n",
       "</div>"
      ],
      "text/plain": [
       "                     gender  age   group  trainrow  brand  model\n",
       "device_id                                                       \n",
       "-8076087639492063270      M   35  M32-38         0     51    843\n",
       "-2897161552818060146      M   35  M32-38         1     51    843\n",
       "-8260683887967679142      M   35  M32-38         2     51    843\n",
       "-4938849341048082022      M   30  M29-31         3     51    865\n",
       " 245133531816851882       M   30  M29-31         4     51    847"
      ]
     },
     "execution_count": 51,
     "metadata": {},
     "output_type": "execute_result"
    }
   ],
   "source": [
    "# del appevents\n",
    "gatrain.head()"
   ]
  },
  {
   "cell_type": "code",
   "execution_count": 52,
   "metadata": {
    "collapsed": false,
    "scrolled": true
   },
   "outputs": [
    {
     "data": {
      "text/html": [
       "<div>\n",
       "<table border=\"1\" class=\"dataframe\">\n",
       "  <thead>\n",
       "    <tr style=\"text-align: right;\">\n",
       "      <th></th>\n",
       "      <th>device_id</th>\n",
       "      <th>label</th>\n",
       "      <th>size</th>\n",
       "      <th>trainrow</th>\n",
       "      <th>testrow</th>\n",
       "    </tr>\n",
       "  </thead>\n",
       "  <tbody>\n",
       "    <tr>\n",
       "      <th>0</th>\n",
       "      <td>-9222956879900151005</td>\n",
       "      <td>117</td>\n",
       "      <td>16</td>\n",
       "      <td>21594.0</td>\n",
       "      <td>NaN</td>\n",
       "    </tr>\n",
       "    <tr>\n",
       "      <th>1</th>\n",
       "      <td>-9222956879900151005</td>\n",
       "      <td>120</td>\n",
       "      <td>17</td>\n",
       "      <td>21594.0</td>\n",
       "      <td>NaN</td>\n",
       "    </tr>\n",
       "    <tr>\n",
       "      <th>2</th>\n",
       "      <td>-9222956879900151005</td>\n",
       "      <td>126</td>\n",
       "      <td>33</td>\n",
       "      <td>21594.0</td>\n",
       "      <td>NaN</td>\n",
       "    </tr>\n",
       "    <tr>\n",
       "      <th>3</th>\n",
       "      <td>-9222956879900151005</td>\n",
       "      <td>138</td>\n",
       "      <td>59</td>\n",
       "      <td>21594.0</td>\n",
       "      <td>NaN</td>\n",
       "    </tr>\n",
       "    <tr>\n",
       "      <th>4</th>\n",
       "      <td>-9222956879900151005</td>\n",
       "      <td>147</td>\n",
       "      <td>37</td>\n",
       "      <td>21594.0</td>\n",
       "      <td>NaN</td>\n",
       "    </tr>\n",
       "  </tbody>\n",
       "</table>\n",
       "</div>"
      ],
      "text/plain": [
       "             device_id  label  size  trainrow  testrow\n",
       "0 -9222956879900151005    117    16   21594.0      NaN\n",
       "1 -9222956879900151005    120    17   21594.0      NaN\n",
       "2 -9222956879900151005    126    33   21594.0      NaN\n",
       "3 -9222956879900151005    138    59   21594.0      NaN\n",
       "4 -9222956879900151005    147    37   21594.0      NaN"
      ]
     },
     "execution_count": 52,
     "metadata": {},
     "output_type": "execute_result"
    }
   ],
   "source": [
    "#devicelabels = (deviceapps[['device_id','app']]\n",
    "#                .merge(applabels[['app','label']])\n",
    "#                .groupby(['device_id','label'])['app'].agg(['size'])\n",
    "#                .merge(gatrain[['trainrow']], how='left',  left_index=True, right_index=True)\n",
    "#                .merge(gatest[['testrow']], how='left', left_index=True, right_index=True)\n",
    "#               .reset_index())\n",
    "devicelabels = pd.read_csv(os.path.join(datadir,'devicelabels.csv'))\n",
    "devicelabels.head()"
   ]
  },
  {
   "cell_type": "code",
   "execution_count": 53,
   "metadata": {
    "collapsed": false
   },
   "outputs": [
    {
     "name": "stdout",
     "output_type": "stream",
     "text": [
      "Labels data: train shape (74645, 492), test shape (112071, 492)\n"
     ]
    }
   ],
   "source": [
    "d = devicelabels.dropna(subset=['trainrow'])\n",
    "Xtr_label = csr_matrix((np.ones(d.shape[0]), (d.trainrow, d.label)), \n",
    "                      shape=(gatrain.shape[0],nlabels))\n",
    "d = devicelabels.dropna(subset=['testrow'])\n",
    "Xte_label = csr_matrix((np.ones(d.shape[0]), (d.testrow, d.label)), \n",
    "                      shape=(gatest.shape[0],nlabels))\n",
    "print('Labels data: train shape {}, test shape {}'.format(Xtr_label.shape, Xte_label.shape))"
   ]
  },
  {
   "cell_type": "markdown",
   "metadata": {},
   "source": [
    "# Join all features"
   ]
  },
  {
   "cell_type": "code",
   "execution_count": 54,
   "metadata": {
    "collapsed": false
   },
   "outputs": [
    {
     "name": "stdout",
     "output_type": "stream",
     "text": [
      "All features: train shape (74645, 21644), test shape (112071, 21644)\n"
     ]
    }
   ],
   "source": [
    "Xtrain = hstack((Xtr_brand, Xtr_model, Xtr_app, Xtr_label, Xtr_loc, Xtr_period, Xtr_loc_act_m, Xtr_period_act_m, Xtr_loc_act, Xtr_period_act), format='csr')\n",
    "Xtest =  hstack((Xte_brand, Xte_model, Xte_app, Xte_label, Xte_loc, Xte_period, Xte_loc_act_m, Xte_period_act_m, Xte_loc_act, Xte_period_act), format='csr')\n",
    "print('All features: train shape {}, test shape {}'.format(Xtrain.shape, Xtest.shape))"
   ]
  },
  {
   "cell_type": "code",
   "execution_count": null,
   "metadata": {
    "collapsed": false
   },
   "outputs": [],
   "source": [
    "Xtrain_log = hstack((Xtr_brand, Xtr_model, Xtr_app, Xtr_label, Xtr_loc, Xtr_period), format='csr')\n",
    "Xtest_log =  hstack((Xte_brand, Xte_model, Xte_app, Xte_label, Xte_loc, Xte_period), format='csr')\n",
    "print('All features: train shape {}, test shape {}'.format(Xtrain.shape, Xtest.shape))"
   ]
  },
  {
   "cell_type": "markdown",
   "metadata": {},
   "source": [
    "# Cross-validation"
   ]
  },
  {
   "cell_type": "code",
   "execution_count": 55,
   "metadata": {
    "collapsed": true
   },
   "outputs": [],
   "source": [
    "targetencoder = LabelEncoder().fit(gatrain.group)\n",
    "y = targetencoder.transform(gatrain.group)\n",
    "nclasses = len(targetencoder.classes_)"
   ]
  },
  {
   "cell_type": "code",
   "execution_count": 56,
   "metadata": {
    "collapsed": true
   },
   "outputs": [],
   "source": [
    "params = {}\n",
    "params['booster'] = 'gblinear'\n",
    "params['objective'] = \"multi:softprob\"\n",
    "params['eval_metric'] = 'mlogloss'\n",
    "params['eta'] = 0.01\n",
    "params['num_class'] = 12\n",
    "params['lambda'] = 5\n",
    "params['alpha'] = 3"
   ]
  },
  {
   "cell_type": "code",
   "execution_count": 57,
   "metadata": {
    "collapsed": false,
    "scrolled": true
   },
   "outputs": [],
   "source": [
    "parameters = {'C':0.02,'l1_ratio':1}"
   ]
  },
  {
   "cell_type": "code",
   "execution_count": null,
   "metadata": {
    "collapsed": false
   },
   "outputs": [],
   "source": [
    "temp=np.random.random((10,2))\n",
    "print(temp)\n",
    "print(temp[[1,2,3,5],:]*2)"
   ]
  },
  {
   "cell_type": "code",
   "execution_count": 58,
   "metadata": {
    "collapsed": false
   },
   "outputs": [],
   "source": [
    "def score(parameters, random_state = 0,mix={'logit':0.475,'xgb':0.475,'sgd':0.05}):\n",
    "    kf = StratifiedKFold(y, n_folds=5, shuffle=True, random_state=random_state)\n",
    "    pred = np.zeros((y.shape[0],nclasses))\n",
    "    pred_logistic = np.zeros((y.shape[0],nclasses))\n",
    "    pred_xgb = np.zeros((y.shape[0],nclasses))\n",
    "    pred_sgd = np.zeros((y.shape[0],nclasses))\n",
    "    logit_val = False\n",
    "    xgb_val = False\n",
    "    sgd_val = False\n",
    "    if mix['logit']>0:\n",
    "        logit_val = True\n",
    "    if mix['xgb']>0:\n",
    "        xgb_val = True\n",
    "    if mix['sgd']>0:\n",
    "        sgd_val = True\n",
    "    for itrain, itest in kf:\n",
    "        Xtr, Xte = Xtrain[itrain, :], Xtrain[itest, :]\n",
    "        #Xtr_log, Xte_log = Xtrain_log[itrain, :], Xtrain_log[itest, :]\n",
    "        ytr, yte = y[itrain], y[itest]\n",
    "        if logit_val:\n",
    "            print(\"Starting Logistic Regression\")\n",
    "            # Logistic Regression\n",
    "            clf1 = LogisticRegression(C=0.02, multi_class='multinomial',solver='lbfgs')\n",
    "            clf1.fit(Xtr, ytr)\n",
    "            pred_logistic[itest,:] = clf1.predict_proba(Xte)\n",
    "        if xgb_val:\n",
    "            print(\"Starting XGBoost\")\n",
    "            # XGBoost\n",
    "            d_train = xgb.DMatrix(Xtr, label=ytr)\n",
    "            d_valid = xgb.DMatrix(Xte, label=yte)\n",
    "            watchlist = [(d_train, 'train'), (d_valid, 'eval')]\n",
    "            clf2 = xgb.train(params, d_train, 1000, watchlist, early_stopping_rounds=10,verbose_eval=False)\n",
    "            pred_xgb[itest,:] = clf2.predict(d_valid)\n",
    "        if sgd_val:\n",
    "            # SGD Classifier\n",
    "            print(\"SGD Classifier\")\n",
    "            clf3 = SGDClassifier(loss='log',penalty='elasticnet',l1_ratio=parameters['l1_ratio'])\n",
    "            clf3.fit(Xtr, ytr)\n",
    "            pred_sgd[itest,:] = clf3.predict_proba(Xte)\n",
    "        # Downsize to one fold only for kernels\n",
    "        # Combine predictions\n",
    "        pred[itest,:] = (mix['logit']*pred_logistic[itest,:])+(mix['xgb']*pred_xgb[itest,:])+(mix['sgd']*pred_sgd[itest,:])\n",
    "        #return log_loss(yte, pred[itest, :])\n",
    "        print(\"Logistic {:.5f}, XGB {:.5f}, SGD {:.5f}, Average {:.5f}\".format(log_loss(yte, pred_logistic[itest,:]),log_loss(yte, pred_xgb[itest,:]),log_loss(yte, pred_sgd[itest,:]),log_loss(yte, pred[itest,:])), end=' ')\n",
    "        print('')\n",
    "    print('')\n",
    "    return log_loss(y, pred)"
   ]
  },
  {
   "cell_type": "code",
   "execution_count": null,
   "metadata": {
    "collapsed": false
   },
   "outputs": [],
   "source": [
    "Cs = np.logspace(-3,0,4)\n",
    "res = []\n",
    "for C in Cs:\n",
    "    res.append(score(LogisticRegression(C = C)))\n",
    "plt.semilogx(Cs, res,'-o');"
   ]
  },
  {
   "cell_type": "code",
   "execution_count": null,
   "metadata": {
    "collapsed": false
   },
   "outputs": [],
   "source": [
    "score(LogisticRegression(C=0.02))"
   ]
  },
  {
   "cell_type": "code",
   "execution_count": null,
   "metadata": {
    "collapsed": false,
    "scrolled": true
   },
   "outputs": [],
   "source": [
    "score(parameters)"
   ]
  },
  {
   "cell_type": "code",
   "execution_count": null,
   "metadata": {
    "collapsed": false,
    "scrolled": true
   },
   "outputs": [],
   "source": [
    "score(parameters,mix=0.75)"
   ]
  },
  {
   "cell_type": "code",
   "execution_count": null,
   "metadata": {
    "collapsed": false
   },
   "outputs": [],
   "source": [
    "score(parameters)"
   ]
  },
  {
   "cell_type": "code",
   "execution_count": 59,
   "metadata": {
    "collapsed": false,
    "scrolled": true
   },
   "outputs": [
    {
     "name": "stdout",
     "output_type": "stream",
     "text": [
      "Starting Logistic Regression\n",
      "Starting XGBoost\n",
      "SGD Classifier\n",
      "Logistic 2.27329, XGB 2.27374, SGD 2.37573, Average 2.27210 \n",
      "Starting Logistic Regression\n",
      "Starting XGBoost\n",
      "SGD Classifier\n",
      "Logistic 2.27080, XGB 2.27146, SGD 2.38552, Average 2.26953 \n",
      "Starting Logistic Regression\n",
      "Starting XGBoost\n",
      "SGD Classifier\n",
      "Logistic 2.27512, XGB 2.27390, SGD 2.34573, Average 2.27284 \n",
      "Starting Logistic Regression\n",
      "Starting XGBoost\n",
      "SGD Classifier\n",
      "Logistic 2.28328, XGB 2.28280, SGD 2.37032, Average 2.28088 \n",
      "Starting Logistic Regression\n",
      "Starting XGBoost\n",
      "SGD Classifier\n",
      "Logistic 2.26967, XGB 2.27043, SGD 2.38440, Average 2.26839 \n",
      "\n"
     ]
    },
    {
     "data": {
      "text/plain": [
       "2.2727463195609663"
      ]
     },
     "execution_count": 59,
     "metadata": {},
     "output_type": "execute_result"
    }
   ],
   "source": [
    "score(parameters={'C':0.02,'l1_ratio':0.5},mix={'logit':0.475,'xgb':0.475,'sgd':0.05})"
   ]
  },
  {
   "cell_type": "code",
   "execution_count": null,
   "metadata": {
    "collapsed": false
   },
   "outputs": [],
   "source": [
    "regularization = np.arange(0.5,0.7,0.05)\n",
    "res = []\n",
    "for l1_ratio in regularization:\n",
    "    parameters['l1_ratio'] = l1_ratio\n",
    "    res.append(score(parameters,mix={'logit':0,'xgb':0,'sgd':1}))\n",
    "for l1_ratio,scores in zip(regularization,res):\n",
    "    print(\"Regularization {:.2f}, Score {:.5f}\".format(l1_ratio,scores))"
   ]
  },
  {
   "cell_type": "code",
   "execution_count": 60,
   "metadata": {
    "collapsed": false
   },
   "outputs": [
    {
     "name": "stdout",
     "output_type": "stream",
     "text": [
      "Starting Logistic Regression\n",
      "Starting XGBoost\n",
      "Logistic 2.27329, XGB 2.27374, SGD 2.48491, Average 2.27145 \n",
      "Starting Logistic Regression\n",
      "Starting XGBoost\n",
      "Logistic 2.27080, XGB 2.27146, SGD 2.48491, Average 2.26905 \n",
      "Starting Logistic Regression\n",
      "Starting XGBoost\n",
      "Logistic 2.27512, XGB 2.27390, SGD 2.48491, Average 2.27243 \n",
      "Starting Logistic Regression\n",
      "Starting XGBoost\n",
      "Logistic 2.28328, XGB 2.28280, SGD 2.48491, Average 2.28087 \n",
      "Starting Logistic Regression\n",
      "Starting XGBoost\n",
      "Logistic 2.26967, XGB 2.27043, SGD 2.48491, Average 2.26802 \n",
      "\n"
     ]
    },
    {
     "data": {
      "text/plain": [
       "2.272362928276948"
      ]
     },
     "execution_count": 60,
     "metadata": {},
     "output_type": "execute_result"
    }
   ],
   "source": [
    "score(parameters,mix={'logit':0.5,'xgb':0.5,'sgd':0})"
   ]
  },
  {
   "cell_type": "code",
   "execution_count": 63,
   "metadata": {
    "collapsed": false
   },
   "outputs": [],
   "source": [
    "clf_logit = LogisticRegression(C=0.02, multi_class='multinomial',solver='lbfgs')\n",
    "clf_logit.fit(Xtrain,y)\n",
    "pred1 = clf_logit.predict_proba(Xtest)"
   ]
  },
  {
   "cell_type": "code",
   "execution_count": 68,
   "metadata": {
    "collapsed": false
   },
   "outputs": [
    {
     "name": "stdout",
     "output_type": "stream",
     "text": [
      "[0]\ttrain-mlogloss:2.45478\n",
      "Will train until train-mlogloss hasn't improved in 10 rounds.\n",
      "[1]\ttrain-mlogloss:2.43896\n",
      "[2]\ttrain-mlogloss:2.42769\n",
      "[3]\ttrain-mlogloss:2.41855\n",
      "[4]\ttrain-mlogloss:2.4106\n",
      "[5]\ttrain-mlogloss:2.40345\n",
      "[6]\ttrain-mlogloss:2.39691\n",
      "[7]\ttrain-mlogloss:2.39087\n",
      "[8]\ttrain-mlogloss:2.38524\n",
      "[9]\ttrain-mlogloss:2.37997\n",
      "[10]\ttrain-mlogloss:2.37503\n",
      "[11]\ttrain-mlogloss:2.37037\n",
      "[12]\ttrain-mlogloss:2.36596\n",
      "[13]\ttrain-mlogloss:2.36178\n",
      "[14]\ttrain-mlogloss:2.35781\n",
      "[15]\ttrain-mlogloss:2.35403\n",
      "[16]\ttrain-mlogloss:2.35042\n",
      "[17]\ttrain-mlogloss:2.34696\n",
      "[18]\ttrain-mlogloss:2.34365\n",
      "[19]\ttrain-mlogloss:2.34047\n",
      "[20]\ttrain-mlogloss:2.33741\n",
      "[21]\ttrain-mlogloss:2.33447\n",
      "[22]\ttrain-mlogloss:2.33163\n",
      "[23]\ttrain-mlogloss:2.32889\n",
      "[24]\ttrain-mlogloss:2.32625\n",
      "[25]\ttrain-mlogloss:2.32369\n",
      "[26]\ttrain-mlogloss:2.32121\n",
      "[27]\ttrain-mlogloss:2.31881\n",
      "[28]\ttrain-mlogloss:2.31648\n",
      "[29]\ttrain-mlogloss:2.31423\n",
      "[30]\ttrain-mlogloss:2.31203\n",
      "[31]\ttrain-mlogloss:2.3099\n",
      "[32]\ttrain-mlogloss:2.30783\n",
      "[33]\ttrain-mlogloss:2.30581\n",
      "[34]\ttrain-mlogloss:2.30385\n",
      "[35]\ttrain-mlogloss:2.30194\n",
      "[36]\ttrain-mlogloss:2.30007\n",
      "[37]\ttrain-mlogloss:2.29826\n",
      "[38]\ttrain-mlogloss:2.29648\n",
      "[39]\ttrain-mlogloss:2.29475\n",
      "[40]\ttrain-mlogloss:2.29306\n",
      "[41]\ttrain-mlogloss:2.29142\n",
      "[42]\ttrain-mlogloss:2.2898\n",
      "[43]\ttrain-mlogloss:2.28823\n",
      "[44]\ttrain-mlogloss:2.28669\n",
      "[45]\ttrain-mlogloss:2.28518\n",
      "[46]\ttrain-mlogloss:2.28371\n",
      "[47]\ttrain-mlogloss:2.28227\n",
      "[48]\ttrain-mlogloss:2.28086\n",
      "[49]\ttrain-mlogloss:2.27947\n",
      "[50]\ttrain-mlogloss:2.27812\n",
      "[51]\ttrain-mlogloss:2.27679\n",
      "[52]\ttrain-mlogloss:2.27549\n",
      "[53]\ttrain-mlogloss:2.27422\n",
      "[54]\ttrain-mlogloss:2.27297\n",
      "[55]\ttrain-mlogloss:2.27175\n",
      "[56]\ttrain-mlogloss:2.27055\n",
      "[57]\ttrain-mlogloss:2.26937\n",
      "[58]\ttrain-mlogloss:2.26821\n",
      "[59]\ttrain-mlogloss:2.26708\n",
      "[60]\ttrain-mlogloss:2.26597\n",
      "[61]\ttrain-mlogloss:2.26487\n",
      "[62]\ttrain-mlogloss:2.2638\n",
      "[63]\ttrain-mlogloss:2.26274\n",
      "[64]\ttrain-mlogloss:2.26171\n",
      "[65]\ttrain-mlogloss:2.26069\n",
      "[66]\ttrain-mlogloss:2.25969\n",
      "[67]\ttrain-mlogloss:2.25871\n",
      "[68]\ttrain-mlogloss:2.25775\n",
      "[69]\ttrain-mlogloss:2.2568\n",
      "[70]\ttrain-mlogloss:2.25586\n",
      "[71]\ttrain-mlogloss:2.25495\n",
      "[72]\ttrain-mlogloss:2.25405\n",
      "[73]\ttrain-mlogloss:2.25316\n",
      "[74]\ttrain-mlogloss:2.25229\n",
      "[75]\ttrain-mlogloss:2.25143\n",
      "[76]\ttrain-mlogloss:2.25058\n",
      "[77]\ttrain-mlogloss:2.24975\n",
      "[78]\ttrain-mlogloss:2.24893\n",
      "[79]\ttrain-mlogloss:2.24813\n",
      "[80]\ttrain-mlogloss:2.24734\n",
      "[81]\ttrain-mlogloss:2.24656\n",
      "[82]\ttrain-mlogloss:2.24579\n",
      "[83]\ttrain-mlogloss:2.24503\n",
      "[84]\ttrain-mlogloss:2.24429\n",
      "[85]\ttrain-mlogloss:2.24355\n",
      "[86]\ttrain-mlogloss:2.24283\n",
      "[87]\ttrain-mlogloss:2.24212\n",
      "[88]\ttrain-mlogloss:2.24142\n",
      "[89]\ttrain-mlogloss:2.24073\n",
      "[90]\ttrain-mlogloss:2.24005\n",
      "[91]\ttrain-mlogloss:2.23938\n",
      "[92]\ttrain-mlogloss:2.23872\n",
      "[93]\ttrain-mlogloss:2.23806\n",
      "[94]\ttrain-mlogloss:2.23742\n",
      "[95]\ttrain-mlogloss:2.23679\n",
      "[96]\ttrain-mlogloss:2.23617\n",
      "[97]\ttrain-mlogloss:2.23555\n",
      "[98]\ttrain-mlogloss:2.23494\n",
      "[99]\ttrain-mlogloss:2.23434\n",
      "[100]\ttrain-mlogloss:2.23375\n",
      "[101]\ttrain-mlogloss:2.23317\n",
      "[102]\ttrain-mlogloss:2.2326\n",
      "[103]\ttrain-mlogloss:2.23203\n",
      "[104]\ttrain-mlogloss:2.23148\n",
      "[105]\ttrain-mlogloss:2.23092\n",
      "[106]\ttrain-mlogloss:2.23038\n",
      "[107]\ttrain-mlogloss:2.22984\n",
      "[108]\ttrain-mlogloss:2.22932\n",
      "[109]\ttrain-mlogloss:2.22879\n",
      "[110]\ttrain-mlogloss:2.22828\n",
      "[111]\ttrain-mlogloss:2.22777\n",
      "[112]\ttrain-mlogloss:2.22727\n",
      "[113]\ttrain-mlogloss:2.22677\n",
      "[114]\ttrain-mlogloss:2.22628\n",
      "[115]\ttrain-mlogloss:2.2258\n",
      "[116]\ttrain-mlogloss:2.22532\n",
      "[117]\ttrain-mlogloss:2.22485\n",
      "[118]\ttrain-mlogloss:2.22439\n",
      "[119]\ttrain-mlogloss:2.22393\n",
      "[120]\ttrain-mlogloss:2.22348\n",
      "[121]\ttrain-mlogloss:2.22303\n",
      "[122]\ttrain-mlogloss:2.22259\n",
      "[123]\ttrain-mlogloss:2.22215\n",
      "[124]\ttrain-mlogloss:2.22172\n",
      "[125]\ttrain-mlogloss:2.22129\n",
      "[126]\ttrain-mlogloss:2.22087\n",
      "[127]\ttrain-mlogloss:2.22046\n",
      "[128]\ttrain-mlogloss:2.22005\n",
      "[129]\ttrain-mlogloss:2.21964\n",
      "[130]\ttrain-mlogloss:2.21924\n",
      "[131]\ttrain-mlogloss:2.21884\n",
      "[132]\ttrain-mlogloss:2.21845\n",
      "[133]\ttrain-mlogloss:2.21807\n",
      "[134]\ttrain-mlogloss:2.21768\n",
      "[135]\ttrain-mlogloss:2.2173\n",
      "[136]\ttrain-mlogloss:2.21693\n",
      "[137]\ttrain-mlogloss:2.21656\n",
      "[138]\ttrain-mlogloss:2.2162\n",
      "[139]\ttrain-mlogloss:2.21584\n",
      "[140]\ttrain-mlogloss:2.21548\n",
      "[141]\ttrain-mlogloss:2.21513\n",
      "[142]\ttrain-mlogloss:2.21478\n",
      "[143]\ttrain-mlogloss:2.21443\n",
      "[144]\ttrain-mlogloss:2.21409\n",
      "[145]\ttrain-mlogloss:2.21376\n",
      "[146]\ttrain-mlogloss:2.21342\n",
      "[147]\ttrain-mlogloss:2.21309\n",
      "[148]\ttrain-mlogloss:2.21277\n",
      "[149]\ttrain-mlogloss:2.21245\n",
      "[150]\ttrain-mlogloss:2.21213\n",
      "[151]\ttrain-mlogloss:2.21181\n",
      "[152]\ttrain-mlogloss:2.2115\n",
      "[153]\ttrain-mlogloss:2.21119\n",
      "[154]\ttrain-mlogloss:2.21089\n",
      "[155]\ttrain-mlogloss:2.21058\n",
      "[156]\ttrain-mlogloss:2.21028\n",
      "[157]\ttrain-mlogloss:2.20999\n",
      "[158]\ttrain-mlogloss:2.2097\n",
      "[159]\ttrain-mlogloss:2.20941\n",
      "[160]\ttrain-mlogloss:2.20912\n",
      "[161]\ttrain-mlogloss:2.20884\n",
      "[162]\ttrain-mlogloss:2.20856\n",
      "[163]\ttrain-mlogloss:2.20828\n",
      "[164]\ttrain-mlogloss:2.20801\n",
      "[165]\ttrain-mlogloss:2.20774\n",
      "[166]\ttrain-mlogloss:2.20747\n",
      "[167]\ttrain-mlogloss:2.2072\n",
      "[168]\ttrain-mlogloss:2.20694\n",
      "[169]\ttrain-mlogloss:2.20668\n",
      "[170]\ttrain-mlogloss:2.20642\n",
      "[171]\ttrain-mlogloss:2.20616\n",
      "[172]\ttrain-mlogloss:2.20591\n",
      "[173]\ttrain-mlogloss:2.20566\n",
      "[174]\ttrain-mlogloss:2.20541\n",
      "[175]\ttrain-mlogloss:2.20517\n",
      "[176]\ttrain-mlogloss:2.20492\n",
      "[177]\ttrain-mlogloss:2.20468\n",
      "[178]\ttrain-mlogloss:2.20445\n",
      "[179]\ttrain-mlogloss:2.20421\n",
      "[180]\ttrain-mlogloss:2.20398\n",
      "[181]\ttrain-mlogloss:2.20375\n",
      "[182]\ttrain-mlogloss:2.20352\n",
      "[183]\ttrain-mlogloss:2.20329\n",
      "[184]\ttrain-mlogloss:2.20307\n",
      "[185]\ttrain-mlogloss:2.20284\n",
      "[186]\ttrain-mlogloss:2.20262\n",
      "[187]\ttrain-mlogloss:2.20241\n",
      "[188]\ttrain-mlogloss:2.20219\n",
      "[189]\ttrain-mlogloss:2.20198\n",
      "[190]\ttrain-mlogloss:2.20176\n",
      "[191]\ttrain-mlogloss:2.20155\n",
      "[192]\ttrain-mlogloss:2.20135\n",
      "[193]\ttrain-mlogloss:2.20114\n",
      "[194]\ttrain-mlogloss:2.20094\n",
      "[195]\ttrain-mlogloss:2.20073\n",
      "[196]\ttrain-mlogloss:2.20053\n",
      "[197]\ttrain-mlogloss:2.20033\n",
      "[198]\ttrain-mlogloss:2.20014\n",
      "[199]\ttrain-mlogloss:2.19994\n",
      "[200]\ttrain-mlogloss:2.19975\n",
      "[201]\ttrain-mlogloss:2.19956\n",
      "[202]\ttrain-mlogloss:2.19937\n",
      "[203]\ttrain-mlogloss:2.19918\n",
      "[204]\ttrain-mlogloss:2.199\n",
      "[205]\ttrain-mlogloss:2.19881\n",
      "[206]\ttrain-mlogloss:2.19863\n",
      "[207]\ttrain-mlogloss:2.19845\n",
      "[208]\ttrain-mlogloss:2.19827\n",
      "[209]\ttrain-mlogloss:2.19809\n",
      "[210]\ttrain-mlogloss:2.19792\n",
      "[211]\ttrain-mlogloss:2.19774\n",
      "[212]\ttrain-mlogloss:2.19757\n",
      "[213]\ttrain-mlogloss:2.1974\n",
      "[214]\ttrain-mlogloss:2.19722\n",
      "[215]\ttrain-mlogloss:2.19706\n",
      "[216]\ttrain-mlogloss:2.19689\n",
      "[217]\ttrain-mlogloss:2.19672\n",
      "[218]\ttrain-mlogloss:2.19656\n",
      "[219]\ttrain-mlogloss:2.1964\n",
      "[220]\ttrain-mlogloss:2.19624\n",
      "[221]\ttrain-mlogloss:2.19607\n",
      "[222]\ttrain-mlogloss:2.19592\n",
      "[223]\ttrain-mlogloss:2.19576\n",
      "[224]\ttrain-mlogloss:2.1956\n",
      "[225]\ttrain-mlogloss:2.19545\n",
      "[226]\ttrain-mlogloss:2.1953\n",
      "[227]\ttrain-mlogloss:2.19514\n",
      "[228]\ttrain-mlogloss:2.19499\n",
      "[229]\ttrain-mlogloss:2.19484\n",
      "[230]\ttrain-mlogloss:2.19469\n",
      "[231]\ttrain-mlogloss:2.19455\n",
      "[232]\ttrain-mlogloss:2.1944\n",
      "[233]\ttrain-mlogloss:2.19426\n",
      "[234]\ttrain-mlogloss:2.19411\n",
      "[235]\ttrain-mlogloss:2.19397\n",
      "[236]\ttrain-mlogloss:2.19383\n",
      "[237]\ttrain-mlogloss:2.19369\n",
      "[238]\ttrain-mlogloss:2.19355\n",
      "[239]\ttrain-mlogloss:2.19341\n",
      "[240]\ttrain-mlogloss:2.19328\n",
      "[241]\ttrain-mlogloss:2.19314\n",
      "[242]\ttrain-mlogloss:2.19301\n",
      "[243]\ttrain-mlogloss:2.19287\n",
      "[244]\ttrain-mlogloss:2.19274\n",
      "[245]\ttrain-mlogloss:2.19261\n",
      "[246]\ttrain-mlogloss:2.19248\n",
      "[247]\ttrain-mlogloss:2.19235\n",
      "[248]\ttrain-mlogloss:2.19222\n",
      "[249]\ttrain-mlogloss:2.1921\n",
      "[250]\ttrain-mlogloss:2.19197\n",
      "[251]\ttrain-mlogloss:2.19185\n",
      "[252]\ttrain-mlogloss:2.19172\n",
      "[253]\ttrain-mlogloss:2.1916\n",
      "[254]\ttrain-mlogloss:2.19148\n",
      "[255]\ttrain-mlogloss:2.19136\n",
      "[256]\ttrain-mlogloss:2.19124\n",
      "[257]\ttrain-mlogloss:2.19112\n",
      "[258]\ttrain-mlogloss:2.191\n",
      "[259]\ttrain-mlogloss:2.19088\n",
      "[260]\ttrain-mlogloss:2.19076\n",
      "[261]\ttrain-mlogloss:2.19065\n",
      "[262]\ttrain-mlogloss:2.19054\n",
      "[263]\ttrain-mlogloss:2.19042\n",
      "[264]\ttrain-mlogloss:2.19031\n",
      "[265]\ttrain-mlogloss:2.1902\n",
      "[266]\ttrain-mlogloss:2.19008\n",
      "[267]\ttrain-mlogloss:2.18997\n",
      "[268]\ttrain-mlogloss:2.18987\n",
      "[269]\ttrain-mlogloss:2.18976\n",
      "[270]\ttrain-mlogloss:2.18965\n",
      "[271]\ttrain-mlogloss:2.18954\n",
      "[272]\ttrain-mlogloss:2.18944\n",
      "[273]\ttrain-mlogloss:2.18933\n",
      "[274]\ttrain-mlogloss:2.18922\n",
      "[275]\ttrain-mlogloss:2.18912\n",
      "[276]\ttrain-mlogloss:2.18902\n",
      "[277]\ttrain-mlogloss:2.18892\n",
      "[278]\ttrain-mlogloss:2.18881\n",
      "[279]\ttrain-mlogloss:2.18871\n",
      "[280]\ttrain-mlogloss:2.18861\n",
      "[281]\ttrain-mlogloss:2.18851\n",
      "[282]\ttrain-mlogloss:2.18841\n",
      "[283]\ttrain-mlogloss:2.18832\n",
      "[284]\ttrain-mlogloss:2.18822\n",
      "[285]\ttrain-mlogloss:2.18812\n",
      "[286]\ttrain-mlogloss:2.18803\n",
      "[287]\ttrain-mlogloss:2.18793\n",
      "[288]\ttrain-mlogloss:2.18784\n",
      "[289]\ttrain-mlogloss:2.18774\n",
      "[290]\ttrain-mlogloss:2.18765\n",
      "[291]\ttrain-mlogloss:2.18756\n",
      "[292]\ttrain-mlogloss:2.18746\n",
      "[293]\ttrain-mlogloss:2.18737\n",
      "[294]\ttrain-mlogloss:2.18728\n",
      "[295]\ttrain-mlogloss:2.18719\n",
      "[296]\ttrain-mlogloss:2.1871\n",
      "[297]\ttrain-mlogloss:2.18702\n",
      "[298]\ttrain-mlogloss:2.18693\n",
      "[299]\ttrain-mlogloss:2.18684\n"
     ]
    }
   ],
   "source": [
    "d_train = xgb.DMatrix(Xtrain, label=y)\n",
    "d_valid = xgb.DMatrix(Xtest)\n",
    "watchlist = [(d_train, 'train')]\n",
    "clf_xgb = xgb.train(params, d_train, 300, watchlist, early_stopping_rounds=10,verbose_eval=True)\n",
    "pred2 = clf_xgb.predict(d_valid)"
   ]
  },
  {
   "cell_type": "code",
   "execution_count": 69,
   "metadata": {
    "collapsed": false
   },
   "outputs": [
    {
     "data": {
      "text/html": [
       "<div>\n",
       "<table border=\"1\" class=\"dataframe\">\n",
       "  <thead>\n",
       "    <tr style=\"text-align: right;\">\n",
       "      <th></th>\n",
       "      <th>F23-</th>\n",
       "      <th>F24-26</th>\n",
       "      <th>F27-28</th>\n",
       "      <th>F29-32</th>\n",
       "      <th>F33-42</th>\n",
       "      <th>F43+</th>\n",
       "      <th>M22-</th>\n",
       "      <th>M23-26</th>\n",
       "      <th>M27-28</th>\n",
       "      <th>M29-31</th>\n",
       "      <th>M32-38</th>\n",
       "      <th>M39+</th>\n",
       "    </tr>\n",
       "    <tr>\n",
       "      <th>device_id</th>\n",
       "      <th></th>\n",
       "      <th></th>\n",
       "      <th></th>\n",
       "      <th></th>\n",
       "      <th></th>\n",
       "      <th></th>\n",
       "      <th></th>\n",
       "      <th></th>\n",
       "      <th></th>\n",
       "      <th></th>\n",
       "      <th></th>\n",
       "      <th></th>\n",
       "    </tr>\n",
       "  </thead>\n",
       "  <tbody>\n",
       "    <tr>\n",
       "      <th>1002079943728939269</th>\n",
       "      <td>0.001288</td>\n",
       "      <td>0.005684</td>\n",
       "      <td>0.014889</td>\n",
       "      <td>0.013464</td>\n",
       "      <td>0.024674</td>\n",
       "      <td>0.048528</td>\n",
       "      <td>0.013842</td>\n",
       "      <td>0.032810</td>\n",
       "      <td>0.074325</td>\n",
       "      <td>0.145433</td>\n",
       "      <td>0.253815</td>\n",
       "      <td>0.371249</td>\n",
       "    </tr>\n",
       "    <tr>\n",
       "      <th>-1547860181818787117</th>\n",
       "      <td>0.011055</td>\n",
       "      <td>0.020915</td>\n",
       "      <td>0.035328</td>\n",
       "      <td>0.062201</td>\n",
       "      <td>0.068734</td>\n",
       "      <td>0.128098</td>\n",
       "      <td>0.006254</td>\n",
       "      <td>0.099319</td>\n",
       "      <td>0.061290</td>\n",
       "      <td>0.095822</td>\n",
       "      <td>0.211275</td>\n",
       "      <td>0.199708</td>\n",
       "    </tr>\n",
       "    <tr>\n",
       "      <th>7374582448058474277</th>\n",
       "      <td>0.032257</td>\n",
       "      <td>0.038824</td>\n",
       "      <td>0.041279</td>\n",
       "      <td>0.156426</td>\n",
       "      <td>0.174831</td>\n",
       "      <td>0.075753</td>\n",
       "      <td>0.014544</td>\n",
       "      <td>0.026717</td>\n",
       "      <td>0.044526</td>\n",
       "      <td>0.097892</td>\n",
       "      <td>0.181140</td>\n",
       "      <td>0.115812</td>\n",
       "    </tr>\n",
       "    <tr>\n",
       "      <th>-6220210354783429585</th>\n",
       "      <td>0.002907</td>\n",
       "      <td>0.033505</td>\n",
       "      <td>0.008684</td>\n",
       "      <td>0.015124</td>\n",
       "      <td>0.053723</td>\n",
       "      <td>0.145763</td>\n",
       "      <td>0.056518</td>\n",
       "      <td>0.165298</td>\n",
       "      <td>0.067444</td>\n",
       "      <td>0.100733</td>\n",
       "      <td>0.169735</td>\n",
       "      <td>0.180567</td>\n",
       "    </tr>\n",
       "    <tr>\n",
       "      <th>-5893464122623104785</th>\n",
       "      <td>0.045511</td>\n",
       "      <td>0.067104</td>\n",
       "      <td>0.044200</td>\n",
       "      <td>0.064296</td>\n",
       "      <td>0.055909</td>\n",
       "      <td>0.043361</td>\n",
       "      <td>0.085643</td>\n",
       "      <td>0.165302</td>\n",
       "      <td>0.100349</td>\n",
       "      <td>0.100266</td>\n",
       "      <td>0.135133</td>\n",
       "      <td>0.092926</td>\n",
       "    </tr>\n",
       "  </tbody>\n",
       "</table>\n",
       "</div>"
      ],
      "text/plain": [
       "                          F23-    F24-26    F27-28    F29-32    F33-42  \\\n",
       "device_id                                                                \n",
       " 1002079943728939269  0.001288  0.005684  0.014889  0.013464  0.024674   \n",
       "-1547860181818787117  0.011055  0.020915  0.035328  0.062201  0.068734   \n",
       " 7374582448058474277  0.032257  0.038824  0.041279  0.156426  0.174831   \n",
       "-6220210354783429585  0.002907  0.033505  0.008684  0.015124  0.053723   \n",
       "-5893464122623104785  0.045511  0.067104  0.044200  0.064296  0.055909   \n",
       "\n",
       "                          F43+      M22-    M23-26    M27-28    M29-31  \\\n",
       "device_id                                                                \n",
       " 1002079943728939269  0.048528  0.013842  0.032810  0.074325  0.145433   \n",
       "-1547860181818787117  0.128098  0.006254  0.099319  0.061290  0.095822   \n",
       " 7374582448058474277  0.075753  0.014544  0.026717  0.044526  0.097892   \n",
       "-6220210354783429585  0.145763  0.056518  0.165298  0.067444  0.100733   \n",
       "-5893464122623104785  0.043361  0.085643  0.165302  0.100349  0.100266   \n",
       "\n",
       "                        M32-38      M39+  \n",
       "device_id                                 \n",
       " 1002079943728939269  0.253815  0.371249  \n",
       "-1547860181818787117  0.211275  0.199708  \n",
       " 7374582448058474277  0.181140  0.115812  \n",
       "-6220210354783429585  0.169735  0.180567  \n",
       "-5893464122623104785  0.135133  0.092926  "
      ]
     },
     "execution_count": 69,
     "metadata": {},
     "output_type": "execute_result"
    }
   ],
   "source": [
    "pred = pred1*0.5 + pred2*0.5\n",
    "pred = pd.DataFrame(pred, index = gatest.index, columns=targetencoder.classes_)\n",
    "pred.head()"
   ]
  },
  {
   "cell_type": "code",
   "execution_count": 70,
   "metadata": {
    "collapsed": true
   },
   "outputs": [],
   "source": [
    "pred.to_csv('logit_xgb_subm.csv',index=True)"
   ]
  }
 ],
 "metadata": {
  "anaconda-cloud": {},
  "kernelspec": {
   "display_name": "Python [Root]",
   "language": "python",
   "name": "Python [Root]"
  },
  "language_info": {
   "codemirror_mode": {
    "name": "ipython",
    "version": 3
   },
   "file_extension": ".py",
   "mimetype": "text/x-python",
   "name": "python",
   "nbconvert_exporter": "python",
   "pygments_lexer": "ipython3",
   "version": "3.4.5"
  }
 },
 "nbformat": 4,
 "nbformat_minor": 0
}
